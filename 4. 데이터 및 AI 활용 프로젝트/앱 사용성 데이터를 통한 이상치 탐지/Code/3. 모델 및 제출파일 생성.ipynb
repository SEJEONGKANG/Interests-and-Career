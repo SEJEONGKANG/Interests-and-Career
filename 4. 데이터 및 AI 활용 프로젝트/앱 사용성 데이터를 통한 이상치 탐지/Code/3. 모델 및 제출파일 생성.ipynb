{
 "cells": [
  {
   "cell_type": "code",
   "execution_count": 12,
   "metadata": {
    "executionInfo": {
     "elapsed": 314,
     "status": "ok",
     "timestamp": 1664782493080,
     "user": {
      "displayName": "이예림(상경대학 응용통계학과)",
      "userId": "02944141114007762965"
     },
     "user_tz": -540
    },
    "id": "-SdCeSzqk4VJ"
   },
   "outputs": [
    {
     "name": "stderr",
     "output_type": "stream",
     "text": [
      "C:\\Users\\sjkan\\anaconda3\\lib\\site-packages\\tensorflow\\python\\client\\session.py:1768: UserWarning: An interactive session is already active. This can cause out-of-memory errors in some cases. You must explicitly call `InteractiveSession.close()` to release resources held by the other session(s).\n",
      "  warnings.warn('An interactive session is already active. This can '\n"
     ]
    }
   ],
   "source": [
    "import numpy as np\n",
    "import pandas as pd\n",
    "#pd.set_option(\"display.max_columns\", 50)\n",
    "\n",
    "import math\n",
    "\n",
    "import matplotlib.pyplot as plt\n",
    "import seaborn as sns\n",
    "\n",
    "# from keras.models import Model, load_model\n",
    "# from keras.layers import Input, Dense\n",
    "# from keras.callbacks import ModelCheckpoint, TensorBoard, EarlyStopping\n",
    "from keras import regularizers\n",
    "import tensorflow_addons as tfa\n",
    "\n",
    "from sklearn.preprocessing import LabelEncoder, StandardScaler\n",
    "from sklearn.model_selection import train_test_split\n",
    "from sklearn.metrics import *\n",
    "\n",
    "import os\n",
    "\n",
    "#GPU 자원이 부족\n",
    "from tensorflow.compat.v1 import ConfigProto\n",
    "from tensorflow.compat.v1 import InteractiveSession\n",
    "config = ConfigProto()\n",
    "config.gpu_options.allow_growth = True\n",
    "session = InteractiveSession(config=config)"
   ]
  },
  {
   "cell_type": "markdown",
   "metadata": {},
   "source": [
    "# RandomForest"
   ]
  },
  {
   "cell_type": "code",
   "execution_count": 48,
   "metadata": {},
   "outputs": [],
   "source": [
    "df = pd.read_csv('C:/Users/sjkan/Downloads/tmp777.csv', encoding='utf-8')"
   ]
  },
  {
   "cell_type": "code",
   "execution_count": 49,
   "metadata": {},
   "outputs": [],
   "source": [
    "df.drop(columns=['loanapply_insert_time','insert_time'],axis=1, inplace =True)"
   ]
  },
  {
   "cell_type": "code",
   "execution_count": 50,
   "metadata": {},
   "outputs": [],
   "source": [
    "# 데이터 타입 변경\n",
    "\n",
    "categorical_feats = ['bank_id','product_id','income_type', 'employment_type', 'houseown_type', 'purpose']\n",
    "\n",
    "cat_df = df[categorical_feats]\n",
    "\n",
    "for c in categorical_feats:\n",
    "    df[c] = df[c].astype('category')\n",
    "\n",
    "# 범주형 ordinal encoding\n",
    "\n",
    "from category_encoders import OrdinalEncoder\n",
    "\n",
    "enc1 = OrdinalEncoder(cols = cat_df.columns)\n",
    "\n",
    "cat_df = enc1.fit_transform(cat_df)\n",
    "\n",
    "df_tmp1 = df.drop(categorical_feats, axis = 1)\n",
    "df_tmp1.reset_index(drop=True, inplace=True)\n",
    "cat_df.reset_index(drop=True, inplace=True)\n",
    "df = pd.concat([df_tmp1,cat_df], axis = 1)\n",
    "\n",
    "del df_tmp1, cat_df"
   ]
  },
  {
   "cell_type": "code",
   "execution_count": 51,
   "metadata": {},
   "outputs": [],
   "source": [
    "# 임시 1안\n",
    "X = df.drop(['is_applied','application_id','user_id','bank_ratio'], axis=1) # 'bank_id',  'product_id'\n",
    "Y = df['is_applied']\n",
    "X_train, X_test, Y_train, Y_test = train_test_split(X, Y, test_size = 0.2, random_state = 42, stratify=Y)"
   ]
  },
  {
   "cell_type": "code",
   "execution_count": 52,
   "metadata": {
    "scrolled": true
   },
   "outputs": [
    {
     "name": "stderr",
     "output_type": "stream",
     "text": [
      "[Parallel(n_jobs=-1)]: Using backend ThreadingBackend with 8 concurrent workers.\n"
     ]
    },
    {
     "name": "stdout",
     "output_type": "stream",
     "text": [
      "building tree 1 of 100building tree 2 of 100building tree 3 of 100\n",
      "\n",
      "building tree 4 of 100\n",
      "building tree 5 of 100\n",
      "building tree 6 of 100\n",
      "\n",
      "building tree 7 of 100\n",
      "building tree 8 of 100\n",
      "building tree 9 of 100\n",
      "building tree 10 of 100\n",
      "building tree 11 of 100\n",
      "building tree 12 of 100\n",
      "building tree 13 of 100\n",
      "building tree 14 of 100\n",
      "building tree 15 of 100\n",
      "building tree 16 of 100\n",
      "building tree 17 of 100\n",
      "building tree 18 of 100\n",
      "building tree 19 of 100\n",
      "building tree 20 of 100\n",
      "building tree 21 of 100\n",
      "building tree 22 of 100\n",
      "building tree 23 of 100\n",
      "building tree 24 of 100\n",
      "building tree 25 of 100\n",
      "building tree 26 of 100\n",
      "building tree 27 of 100\n",
      "building tree 28 of 100\n",
      "building tree 29 of 100\n",
      "building tree 30 of 100\n",
      "building tree 31 of 100\n",
      "building tree 32 of 100\n",
      "building tree 33 of 100building tree 34 of 100\n",
      "\n"
     ]
    },
    {
     "name": "stderr",
     "output_type": "stream",
     "text": [
      "[Parallel(n_jobs=-1)]: Done  25 tasks      | elapsed:  3.1min\n"
     ]
    },
    {
     "name": "stdout",
     "output_type": "stream",
     "text": [
      "building tree 35 of 100\n",
      "building tree 36 of 100\n",
      "building tree 37 of 100\n",
      "building tree 38 of 100\n",
      "building tree 39 of 100\n",
      "building tree 40 of 100\n",
      "building tree 41 of 100\n",
      "building tree 42 of 100\n",
      "building tree 43 of 100\n",
      "building tree 44 of 100\n",
      "building tree 45 of 100\n",
      "building tree 46 of 100\n",
      "building tree 47 of 100\n",
      "building tree 48 of 100\n",
      "building tree 49 of 100\n",
      "building tree 50 of 100\n",
      "building tree 51 of 100\n",
      "building tree 52 of 100building tree 53 of 100\n",
      "\n",
      "building tree 54 of 100\n",
      "building tree 55 of 100\n",
      "building tree 56 of 100\n",
      "building tree 57 of 100\n",
      "building tree 58 of 100\n",
      "building tree 59 of 100\n",
      "building tree 60 of 100\n",
      "building tree 61 of 100\n",
      "building tree 62 of 100\n",
      "building tree 63 of 100\n",
      "building tree 64 of 100\n",
      "building tree 65 of 100\n",
      "building tree 66 of 100\n",
      "building tree 67 of 100\n",
      "building tree 68 of 100\n",
      "building tree 69 of 100\n",
      "building tree 70 of 100\n",
      "building tree 71 of 100\n",
      "building tree 72 of 100\n",
      "building tree 73 of 100\n",
      "building tree 74 of 100\n",
      "building tree 75 of 100\n",
      "building tree 76 of 100\n",
      "building tree 77 of 100\n",
      "building tree 78 of 100\n",
      "building tree 79 of 100\n",
      "building tree 80 of 100\n",
      "building tree 81 of 100\n",
      "building tree 82 of 100\n",
      "building tree 83 of 100\n",
      "building tree 84 of 100\n",
      "building tree 85 of 100\n",
      "building tree 86 of 100\n",
      "building tree 87 of 100\n",
      "building tree 88 of 100\n",
      "building tree 89 of 100\n",
      "building tree 90 of 100\n",
      "building tree 91 of 100\n",
      "building tree 92 of 100\n",
      "building tree 93 of 100\n",
      "building tree 94 of 100\n",
      "building tree 95 of 100\n",
      "building tree 96 of 100\n",
      "building tree 97 of 100\n",
      "building tree 98 of 100\n",
      "building tree 99 of 100\n",
      "building tree 100 of 100\n"
     ]
    },
    {
     "name": "stderr",
     "output_type": "stream",
     "text": [
      "[Parallel(n_jobs=-1)]: Done 100 out of 100 | elapsed:  9.8min finished\n"
     ]
    },
    {
     "data": {
      "text/html": [
       "<style>#sk-container-id-2 {color: black;background-color: white;}#sk-container-id-2 pre{padding: 0;}#sk-container-id-2 div.sk-toggleable {background-color: white;}#sk-container-id-2 label.sk-toggleable__label {cursor: pointer;display: block;width: 100%;margin-bottom: 0;padding: 0.3em;box-sizing: border-box;text-align: center;}#sk-container-id-2 label.sk-toggleable__label-arrow:before {content: \"▸\";float: left;margin-right: 0.25em;color: #696969;}#sk-container-id-2 label.sk-toggleable__label-arrow:hover:before {color: black;}#sk-container-id-2 div.sk-estimator:hover label.sk-toggleable__label-arrow:before {color: black;}#sk-container-id-2 div.sk-toggleable__content {max-height: 0;max-width: 0;overflow: hidden;text-align: left;background-color: #f0f8ff;}#sk-container-id-2 div.sk-toggleable__content pre {margin: 0.2em;color: black;border-radius: 0.25em;background-color: #f0f8ff;}#sk-container-id-2 input.sk-toggleable__control:checked~div.sk-toggleable__content {max-height: 200px;max-width: 100%;overflow: auto;}#sk-container-id-2 input.sk-toggleable__control:checked~label.sk-toggleable__label-arrow:before {content: \"▾\";}#sk-container-id-2 div.sk-estimator input.sk-toggleable__control:checked~label.sk-toggleable__label {background-color: #d4ebff;}#sk-container-id-2 div.sk-label input.sk-toggleable__control:checked~label.sk-toggleable__label {background-color: #d4ebff;}#sk-container-id-2 input.sk-hidden--visually {border: 0;clip: rect(1px 1px 1px 1px);clip: rect(1px, 1px, 1px, 1px);height: 1px;margin: -1px;overflow: hidden;padding: 0;position: absolute;width: 1px;}#sk-container-id-2 div.sk-estimator {font-family: monospace;background-color: #f0f8ff;border: 1px dotted black;border-radius: 0.25em;box-sizing: border-box;margin-bottom: 0.5em;}#sk-container-id-2 div.sk-estimator:hover {background-color: #d4ebff;}#sk-container-id-2 div.sk-parallel-item::after {content: \"\";width: 100%;border-bottom: 1px solid gray;flex-grow: 1;}#sk-container-id-2 div.sk-label:hover label.sk-toggleable__label {background-color: #d4ebff;}#sk-container-id-2 div.sk-serial::before {content: \"\";position: absolute;border-left: 1px solid gray;box-sizing: border-box;top: 0;bottom: 0;left: 50%;z-index: 0;}#sk-container-id-2 div.sk-serial {display: flex;flex-direction: column;align-items: center;background-color: white;padding-right: 0.2em;padding-left: 0.2em;position: relative;}#sk-container-id-2 div.sk-item {position: relative;z-index: 1;}#sk-container-id-2 div.sk-parallel {display: flex;align-items: stretch;justify-content: center;background-color: white;position: relative;}#sk-container-id-2 div.sk-item::before, #sk-container-id-2 div.sk-parallel-item::before {content: \"\";position: absolute;border-left: 1px solid gray;box-sizing: border-box;top: 0;bottom: 0;left: 50%;z-index: -1;}#sk-container-id-2 div.sk-parallel-item {display: flex;flex-direction: column;z-index: 1;position: relative;background-color: white;}#sk-container-id-2 div.sk-parallel-item:first-child::after {align-self: flex-end;width: 50%;}#sk-container-id-2 div.sk-parallel-item:last-child::after {align-self: flex-start;width: 50%;}#sk-container-id-2 div.sk-parallel-item:only-child::after {width: 0;}#sk-container-id-2 div.sk-dashed-wrapped {border: 1px dashed gray;margin: 0 0.4em 0.5em 0.4em;box-sizing: border-box;padding-bottom: 0.4em;background-color: white;}#sk-container-id-2 div.sk-label label {font-family: monospace;font-weight: bold;display: inline-block;line-height: 1.2em;}#sk-container-id-2 div.sk-label-container {text-align: center;}#sk-container-id-2 div.sk-container {/* jupyter's `normalize.less` sets `[hidden] { display: none; }` but bootstrap.min.css set `[hidden] { display: none !important; }` so we also need the `!important` here to be able to override the default hidden behavior on the sphinx rendered scikit-learn.org. See: https://github.com/scikit-learn/scikit-learn/issues/21755 */display: inline-block !important;position: relative;}#sk-container-id-2 div.sk-text-repr-fallback {display: none;}</style><div id=\"sk-container-id-2\" class=\"sk-top-container\"><div class=\"sk-text-repr-fallback\"><pre>RandomForestClassifier(class_weight=&#x27;balanced&#x27;, n_jobs=-1, random_state=42,\n",
       "                       verbose=2)</pre><b>In a Jupyter environment, please rerun this cell to show the HTML representation or trust the notebook. <br />On GitHub, the HTML representation is unable to render, please try loading this page with nbviewer.org.</b></div><div class=\"sk-container\" hidden><div class=\"sk-item\"><div class=\"sk-estimator sk-toggleable\"><input class=\"sk-toggleable__control sk-hidden--visually\" id=\"sk-estimator-id-2\" type=\"checkbox\" checked><label for=\"sk-estimator-id-2\" class=\"sk-toggleable__label sk-toggleable__label-arrow\">RandomForestClassifier</label><div class=\"sk-toggleable__content\"><pre>RandomForestClassifier(class_weight=&#x27;balanced&#x27;, n_jobs=-1, random_state=42,\n",
       "                       verbose=2)</pre></div></div></div></div></div>"
      ],
      "text/plain": [
       "RandomForestClassifier(class_weight='balanced', n_jobs=-1, random_state=42,\n",
       "                       verbose=2)"
      ]
     },
     "execution_count": 52,
     "metadata": {},
     "output_type": "execute_result"
    }
   ],
   "source": [
    "# Building the Random Forest Classifier (RANDOM FOREST)\n",
    "from sklearn.ensemble import RandomForestClassifier\n",
    "# random forest model creation\n",
    "rfc = RandomForestClassifier(random_state = 42, verbose = 2, n_jobs=-1, class_weight=\"balanced\")\n",
    "rfc.fit(X_train,Y_train)"
   ]
  },
  {
   "cell_type": "code",
   "execution_count": 53,
   "metadata": {},
   "outputs": [
    {
     "name": "stderr",
     "output_type": "stream",
     "text": [
      "[Parallel(n_jobs=8)]: Using backend ThreadingBackend with 8 concurrent workers.\n",
      "[Parallel(n_jobs=8)]: Done  25 tasks      | elapsed:    5.4s\n",
      "[Parallel(n_jobs=8)]: Done 100 out of 100 | elapsed:   17.3s finished\n"
     ]
    },
    {
     "data": {
      "text/plain": [
       "array([[1.        , 0.        ],\n",
       "       [0.97      , 0.03      ],\n",
       "       [0.99      , 0.01      ],\n",
       "       ...,\n",
       "       [0.99      , 0.01      ],\n",
       "       [1.        , 0.        ],\n",
       "       [0.94168237, 0.05831763]])"
      ]
     },
     "execution_count": 53,
     "metadata": {},
     "output_type": "execute_result"
    }
   ],
   "source": [
    "prob1 = rfc.predict_proba(X_test)\n",
    "prob1"
   ]
  },
  {
   "cell_type": "code",
   "execution_count": 54,
   "metadata": {},
   "outputs": [],
   "source": [
    "# user , product\n",
    "result_col = []\n",
    "for i in range(len(Y_test.values)):\n",
    "        result_col.append(prob1[:,1][i])"
   ]
  },
  {
   "cell_type": "code",
   "execution_count": 55,
   "metadata": {},
   "outputs": [
    {
     "data": {
      "text/plain": [
       "5.884506650255287"
      ]
     },
     "execution_count": 55,
     "metadata": {},
     "output_type": "execute_result"
    }
   ],
   "source": [
    "# criteria를 바꾸면서 5.8%근처로\n",
    "criteria = 0.259\n",
    "result_bool = [0 if i <= criteria else 1 for i in result_col]\n",
    "\n",
    "sum(result_bool)/len(result_bool) * 100"
   ]
  },
  {
   "cell_type": "code",
   "execution_count": 56,
   "metadata": {},
   "outputs": [],
   "source": [
    "y_true = Y_test\n",
    "y_pred = result_bool"
   ]
  },
  {
   "cell_type": "code",
   "execution_count": 57,
   "metadata": {
    "scrolled": true
   },
   "outputs": [
    {
     "data": {
      "text/plain": [
       "0.7039447234259476"
      ]
     },
     "execution_count": 57,
     "metadata": {},
     "output_type": "execute_result"
    }
   ],
   "source": [
    "f1_score(y_true, y_pred, average='macro')"
   ]
  },
  {
   "cell_type": "code",
   "execution_count": null,
   "metadata": {},
   "outputs": [],
   "source": []
  },
  {
   "cell_type": "code",
   "execution_count": null,
   "metadata": {},
   "outputs": [],
   "source": []
  },
  {
   "cell_type": "markdown",
   "metadata": {},
   "source": [
    "# lgbm"
   ]
  },
  {
   "cell_type": "code",
   "execution_count": 13,
   "metadata": {},
   "outputs": [
    {
     "data": {
      "text/html": [
       "<div>\n",
       "<style scoped>\n",
       "    .dataframe tbody tr th:only-of-type {\n",
       "        vertical-align: middle;\n",
       "    }\n",
       "\n",
       "    .dataframe tbody tr th {\n",
       "        vertical-align: top;\n",
       "    }\n",
       "\n",
       "    .dataframe thead th {\n",
       "        text-align: right;\n",
       "    }\n",
       "</style>\n",
       "<table border=\"1\" class=\"dataframe\">\n",
       "  <thead>\n",
       "    <tr style=\"text-align: right;\">\n",
       "      <th></th>\n",
       "      <th>application_id</th>\n",
       "      <th>loanapply_insert_time</th>\n",
       "      <th>bank_id</th>\n",
       "      <th>product_id</th>\n",
       "      <th>loan_limit</th>\n",
       "      <th>loan_rate</th>\n",
       "      <th>is_applied</th>\n",
       "      <th>user_id</th>\n",
       "      <th>birth_year</th>\n",
       "      <th>gender</th>\n",
       "      <th>...</th>\n",
       "      <th>UsePrepayCalc</th>\n",
       "      <th>SignUp</th>\n",
       "      <th>StartLoanApply</th>\n",
       "      <th>EndLoanApply</th>\n",
       "      <th>GetCreditInfo</th>\n",
       "      <th>UseLoanManage</th>\n",
       "      <th>ViewLoanApplyIntro</th>\n",
       "      <th>loan_limit_rank</th>\n",
       "      <th>loan_rate_rank</th>\n",
       "      <th>bank_ratio</th>\n",
       "    </tr>\n",
       "  </thead>\n",
       "  <tbody>\n",
       "    <tr>\n",
       "      <th>0</th>\n",
       "      <td>2157865</td>\n",
       "      <td>2022-05-09 08:44:59</td>\n",
       "      <td>54</td>\n",
       "      <td>235</td>\n",
       "      <td>20000000.0</td>\n",
       "      <td>16.5</td>\n",
       "      <td>1.0</td>\n",
       "      <td>346970.0</td>\n",
       "      <td>1970.0</td>\n",
       "      <td>1.0</td>\n",
       "      <td>...</td>\n",
       "      <td>0.0</td>\n",
       "      <td>0.0</td>\n",
       "      <td>4.0</td>\n",
       "      <td>13.0</td>\n",
       "      <td>6.0</td>\n",
       "      <td>5.0</td>\n",
       "      <td>5.0</td>\n",
       "      <td>1.0</td>\n",
       "      <td>1.0</td>\n",
       "      <td>0.042501</td>\n",
       "    </tr>\n",
       "    <tr>\n",
       "      <th>1</th>\n",
       "      <td>576643</td>\n",
       "      <td>2022-05-09 10:54:53</td>\n",
       "      <td>54</td>\n",
       "      <td>235</td>\n",
       "      <td>11000000.0</td>\n",
       "      <td>16.5</td>\n",
       "      <td>0.0</td>\n",
       "      <td>545882.0</td>\n",
       "      <td>1977.0</td>\n",
       "      <td>1.0</td>\n",
       "      <td>...</td>\n",
       "      <td>0.0</td>\n",
       "      <td>0.0</td>\n",
       "      <td>19.0</td>\n",
       "      <td>21.0</td>\n",
       "      <td>0.0</td>\n",
       "      <td>0.0</td>\n",
       "      <td>14.0</td>\n",
       "      <td>1.0</td>\n",
       "      <td>2.0</td>\n",
       "      <td>0.042501</td>\n",
       "    </tr>\n",
       "    <tr>\n",
       "      <th>2</th>\n",
       "      <td>576643</td>\n",
       "      <td>2022-05-09 10:54:53</td>\n",
       "      <td>11</td>\n",
       "      <td>118</td>\n",
       "      <td>3000000.0</td>\n",
       "      <td>20.0</td>\n",
       "      <td>0.0</td>\n",
       "      <td>545882.0</td>\n",
       "      <td>1977.0</td>\n",
       "      <td>1.0</td>\n",
       "      <td>...</td>\n",
       "      <td>0.0</td>\n",
       "      <td>0.0</td>\n",
       "      <td>19.0</td>\n",
       "      <td>21.0</td>\n",
       "      <td>0.0</td>\n",
       "      <td>0.0</td>\n",
       "      <td>14.0</td>\n",
       "      <td>2.0</td>\n",
       "      <td>1.0</td>\n",
       "      <td>0.016988</td>\n",
       "    </tr>\n",
       "    <tr>\n",
       "      <th>3</th>\n",
       "      <td>2136706</td>\n",
       "      <td>2022-05-09 10:41:06</td>\n",
       "      <td>42</td>\n",
       "      <td>216</td>\n",
       "      <td>10000000.0</td>\n",
       "      <td>13.5</td>\n",
       "      <td>0.0</td>\n",
       "      <td>558819.0</td>\n",
       "      <td>1983.0</td>\n",
       "      <td>1.0</td>\n",
       "      <td>...</td>\n",
       "      <td>0.0</td>\n",
       "      <td>0.0</td>\n",
       "      <td>32.0</td>\n",
       "      <td>29.0</td>\n",
       "      <td>18.0</td>\n",
       "      <td>15.0</td>\n",
       "      <td>7.0</td>\n",
       "      <td>32.0</td>\n",
       "      <td>21.0</td>\n",
       "      <td>0.024209</td>\n",
       "    </tr>\n",
       "    <tr>\n",
       "      <th>4</th>\n",
       "      <td>2136706</td>\n",
       "      <td>2022-05-09 10:41:07</td>\n",
       "      <td>25</td>\n",
       "      <td>169</td>\n",
       "      <td>22000000.0</td>\n",
       "      <td>15.9</td>\n",
       "      <td>0.0</td>\n",
       "      <td>558819.0</td>\n",
       "      <td>1983.0</td>\n",
       "      <td>1.0</td>\n",
       "      <td>...</td>\n",
       "      <td>0.0</td>\n",
       "      <td>0.0</td>\n",
       "      <td>32.0</td>\n",
       "      <td>29.0</td>\n",
       "      <td>18.0</td>\n",
       "      <td>15.0</td>\n",
       "      <td>7.0</td>\n",
       "      <td>20.0</td>\n",
       "      <td>11.0</td>\n",
       "      <td>0.021180</td>\n",
       "    </tr>\n",
       "  </tbody>\n",
       "</table>\n",
       "<p>5 rows × 37 columns</p>\n",
       "</div>"
      ],
      "text/plain": [
       "   application_id loanapply_insert_time  bank_id  product_id  loan_limit  \\\n",
       "0         2157865   2022-05-09 08:44:59       54         235  20000000.0   \n",
       "1          576643   2022-05-09 10:54:53       54         235  11000000.0   \n",
       "2          576643   2022-05-09 10:54:53       11         118   3000000.0   \n",
       "3         2136706   2022-05-09 10:41:06       42         216  10000000.0   \n",
       "4         2136706   2022-05-09 10:41:07       25         169  22000000.0   \n",
       "\n",
       "   loan_rate  is_applied   user_id  birth_year  gender  ... UsePrepayCalc  \\\n",
       "0       16.5         1.0  346970.0      1970.0     1.0  ...           0.0   \n",
       "1       16.5         0.0  545882.0      1977.0     1.0  ...           0.0   \n",
       "2       20.0         0.0  545882.0      1977.0     1.0  ...           0.0   \n",
       "3       13.5         0.0  558819.0      1983.0     1.0  ...           0.0   \n",
       "4       15.9         0.0  558819.0      1983.0     1.0  ...           0.0   \n",
       "\n",
       "   SignUp  StartLoanApply EndLoanApply  GetCreditInfo UseLoanManage  \\\n",
       "0     0.0             4.0         13.0            6.0           5.0   \n",
       "1     0.0            19.0         21.0            0.0           0.0   \n",
       "2     0.0            19.0         21.0            0.0           0.0   \n",
       "3     0.0            32.0         29.0           18.0          15.0   \n",
       "4     0.0            32.0         29.0           18.0          15.0   \n",
       "\n",
       "  ViewLoanApplyIntro  loan_limit_rank loan_rate_rank  bank_ratio  \n",
       "0                5.0              1.0            1.0    0.042501  \n",
       "1               14.0              1.0            2.0    0.042501  \n",
       "2               14.0              2.0            1.0    0.016988  \n",
       "3                7.0             32.0           21.0    0.024209  \n",
       "4                7.0             20.0           11.0    0.021180  \n",
       "\n",
       "[5 rows x 37 columns]"
      ]
     },
     "execution_count": 13,
     "metadata": {},
     "output_type": "execute_result"
    }
   ],
   "source": [
    "df = pd.read_csv('C:/Users/sjkan/Downloads/tmp777.csv', encoding='utf-8')\n",
    "df.head()"
   ]
  },
  {
   "cell_type": "code",
   "execution_count": 14,
   "metadata": {},
   "outputs": [],
   "source": [
    "df.drop(columns=['loanapply_insert_time','insert_time'],axis=1, inplace =True)"
   ]
  },
  {
   "cell_type": "code",
   "execution_count": 15,
   "metadata": {},
   "outputs": [],
   "source": [
    "# 데이터 타입 변경\n",
    "\n",
    "#df.info()\n",
    "\n",
    "categorical_feats = ['bank_id','product_id','income_type', 'employment_type', 'houseown_type', 'purpose']\n",
    "\n",
    "cat_df = df[categorical_feats]\n",
    "\n",
    "for c in categorical_feats:\n",
    "    df[c] = df[c].astype('category')"
   ]
  },
  {
   "cell_type": "markdown",
   "metadata": {
    "id": "AwkB8DNrxjse"
   },
   "source": [
    "# 스케일링"
   ]
  },
  {
   "cell_type": "code",
   "execution_count": 16,
   "metadata": {
    "scrolled": true
   },
   "outputs": [],
   "source": [
    "from sklearn.preprocessing import RobustScaler, StandardScaler, MinMaxScaler\n",
    "\n",
    "scaler_df = df.drop(['is_applied','bank_id','product_id','income_type', 'employment_type', 'houseown_type', 'purpose'], axis = 1)\n",
    "\n",
    "scale_df_col = scaler_df.columns\n",
    "\n",
    "scaler = RobustScaler()\n",
    "df_robust = scaler.fit_transform(scaler_df)\n",
    "\n",
    "df_robust = pd.DataFrame(df_robust, columns = scale_df_col)\n",
    "\n",
    "\n",
    "target = df[['is_applied','bank_id','product_id','income_type', 'employment_type', 'houseown_type', 'purpose']]\n",
    "target.reset_index(drop=True, inplace=True)\n",
    "afterscale_df = pd.concat([df_robust,target], axis = 1)\n",
    "afterscale_df['is_applied'] = afterscale_df['is_applied'].astype('int')"
   ]
  },
  {
   "cell_type": "code",
   "execution_count": 17,
   "metadata": {},
   "outputs": [],
   "source": [
    "X = afterscale_df.drop(['is_applied','application_id','user_id','bank_ratio'], axis=1) # 'bank_id',  'product_id'\n",
    "Y = afterscale_df['is_applied']\n",
    "X_train, X_test, Y_train, Y_test = train_test_split(X, Y, test_size = 0.2, random_state = 42, stratify=Y)"
   ]
  },
  {
   "cell_type": "code",
   "execution_count": 22,
   "metadata": {
    "scrolled": true
   },
   "outputs": [
    {
     "name": "stdout",
     "output_type": "stream",
     "text": [
      "[LightGBM] [Info] Number of positive: 301432, number of negative: 5073699\n",
      "[LightGBM] [Debug] Dataset::GetMultiBinFromSparseFeatures: sparse rate 0.891217\n",
      "[LightGBM] [Info] Total Bins 3768\n",
      "[LightGBM] [Info] Number of data points in the train set: 5375131, number of used features: 31\n",
      "[LightGBM] [Info] Using GOSS\n",
      "[LightGBM] [Debug] Trained a tree with leaves = 80 and depth = 9\n",
      "[LightGBM] [Debug] Trained a tree with leaves = 80 and depth = 9\n",
      "[LightGBM] [Debug] Trained a tree with leaves = 80 and depth = 10\n",
      "[LightGBM] [Debug] Trained a tree with leaves = 80 and depth = 9\n",
      "[LightGBM] [Debug] Trained a tree with leaves = 80 and depth = 9\n",
      "[LightGBM] [Debug] Trained a tree with leaves = 80 and depth = 9\n",
      "[LightGBM] [Debug] Trained a tree with leaves = 80 and depth = 9\n",
      "[LightGBM] [Debug] Trained a tree with leaves = 80 and depth = 9\n",
      "[LightGBM] [Debug] Trained a tree with leaves = 80 and depth = 9\n",
      "[LightGBM] [Debug] Trained a tree with leaves = 80 and depth = 10\n",
      "[LightGBM] [Debug] Trained a tree with leaves = 80 and depth = 8\n",
      "[LightGBM] [Debug] Trained a tree with leaves = 80 and depth = 9\n",
      "[LightGBM] [Debug] Trained a tree with leaves = 80 and depth = 9\n",
      "[LightGBM] [Debug] Trained a tree with leaves = 80 and depth = 10\n",
      "[LightGBM] [Debug] Trained a tree with leaves = 80 and depth = 11\n",
      "[LightGBM] [Debug] Trained a tree with leaves = 80 and depth = 9\n",
      "[LightGBM] [Debug] Trained a tree with leaves = 80 and depth = 8\n",
      "[LightGBM] [Debug] Trained a tree with leaves = 80 and depth = 10\n",
      "[LightGBM] [Debug] Trained a tree with leaves = 80 and depth = 10\n",
      "[LightGBM] [Debug] Trained a tree with leaves = 80 and depth = 10\n",
      "[LightGBM] [Debug] Trained a tree with leaves = 80 and depth = 10\n",
      "[LightGBM] [Debug] Trained a tree with leaves = 80 and depth = 10\n",
      "[LightGBM] [Debug] Trained a tree with leaves = 80 and depth = 9\n",
      "[LightGBM] [Debug] Trained a tree with leaves = 80 and depth = 9\n",
      "[LightGBM] [Debug] Trained a tree with leaves = 80 and depth = 11\n",
      "[LightGBM] [Debug] Trained a tree with leaves = 80 and depth = 12\n",
      "[LightGBM] [Debug] Trained a tree with leaves = 80 and depth = 12\n",
      "[LightGBM] [Debug] Trained a tree with leaves = 80 and depth = 10\n",
      "[LightGBM] [Debug] Trained a tree with leaves = 80 and depth = 11\n",
      "[LightGBM] [Debug] Trained a tree with leaves = 80 and depth = 11\n",
      "[LightGBM] [Debug] Trained a tree with leaves = 80 and depth = 11\n",
      "[LightGBM] [Debug] Trained a tree with leaves = 80 and depth = 11\n",
      "[LightGBM] [Debug] Trained a tree with leaves = 80 and depth = 12\n",
      "[LightGBM] [Debug] Trained a tree with leaves = 80 and depth = 10\n",
      "[LightGBM] [Debug] Trained a tree with leaves = 80 and depth = 10\n",
      "[LightGBM] [Debug] Trained a tree with leaves = 80 and depth = 10\n",
      "[LightGBM] [Debug] Trained a tree with leaves = 80 and depth = 12\n",
      "[LightGBM] [Debug] Trained a tree with leaves = 80 and depth = 10\n",
      "[LightGBM] [Debug] Trained a tree with leaves = 80 and depth = 10\n",
      "[LightGBM] [Debug] Trained a tree with leaves = 80 and depth = 11\n",
      "[LightGBM] [Debug] Trained a tree with leaves = 80 and depth = 10\n",
      "[LightGBM] [Debug] Trained a tree with leaves = 80 and depth = 10\n",
      "[LightGBM] [Debug] Trained a tree with leaves = 80 and depth = 10\n",
      "[LightGBM] [Debug] Trained a tree with leaves = 80 and depth = 11\n",
      "[LightGBM] [Debug] Trained a tree with leaves = 80 and depth = 11\n",
      "[LightGBM] [Debug] Trained a tree with leaves = 80 and depth = 14\n",
      "[LightGBM] [Debug] Trained a tree with leaves = 80 and depth = 11\n",
      "[LightGBM] [Debug] Trained a tree with leaves = 80 and depth = 12\n",
      "[LightGBM] [Debug] Trained a tree with leaves = 80 and depth = 15\n",
      "[LightGBM] [Debug] Trained a tree with leaves = 80 and depth = 12\n",
      "[LightGBM] [Debug] Trained a tree with leaves = 80 and depth = 12\n",
      "[LightGBM] [Debug] Trained a tree with leaves = 80 and depth = 14\n",
      "[LightGBM] [Debug] Trained a tree with leaves = 80 and depth = 14\n",
      "[LightGBM] [Debug] Trained a tree with leaves = 80 and depth = 15\n",
      "[LightGBM] [Debug] Trained a tree with leaves = 80 and depth = 14\n",
      "[LightGBM] [Debug] Trained a tree with leaves = 80 and depth = 11\n",
      "[LightGBM] [Debug] Trained a tree with leaves = 80 and depth = 11\n",
      "[LightGBM] [Debug] Trained a tree with leaves = 80 and depth = 13\n",
      "[LightGBM] [Debug] Trained a tree with leaves = 80 and depth = 12\n",
      "[LightGBM] [Debug] Trained a tree with leaves = 80 and depth = 13\n",
      "[LightGBM] [Debug] Trained a tree with leaves = 80 and depth = 12\n",
      "[LightGBM] [Debug] Trained a tree with leaves = 80 and depth = 11\n",
      "[LightGBM] [Debug] Trained a tree with leaves = 80 and depth = 15\n",
      "[LightGBM] [Debug] Trained a tree with leaves = 80 and depth = 11\n",
      "[LightGBM] [Debug] Trained a tree with leaves = 80 and depth = 12\n",
      "[LightGBM] [Debug] Trained a tree with leaves = 80 and depth = 14\n",
      "[LightGBM] [Debug] Trained a tree with leaves = 80 and depth = 14\n",
      "[LightGBM] [Debug] Trained a tree with leaves = 80 and depth = 13\n",
      "[LightGBM] [Debug] Trained a tree with leaves = 80 and depth = 12\n",
      "[LightGBM] [Debug] Trained a tree with leaves = 80 and depth = 16\n",
      "[LightGBM] [Debug] Trained a tree with leaves = 80 and depth = 11\n",
      "[LightGBM] [Debug] Trained a tree with leaves = 80 and depth = 16\n",
      "[LightGBM] [Debug] Trained a tree with leaves = 80 and depth = 12\n",
      "[LightGBM] [Debug] Trained a tree with leaves = 80 and depth = 14\n",
      "[LightGBM] [Debug] Trained a tree with leaves = 80 and depth = 12\n",
      "[LightGBM] [Debug] Trained a tree with leaves = 80 and depth = 16\n",
      "[LightGBM] [Debug] Trained a tree with leaves = 80 and depth = 14\n",
      "[LightGBM] [Debug] Trained a tree with leaves = 80 and depth = 16\n",
      "[LightGBM] [Debug] Trained a tree with leaves = 80 and depth = 11\n",
      "[LightGBM] [Debug] Trained a tree with leaves = 80 and depth = 15\n",
      "[LightGBM] [Debug] Trained a tree with leaves = 80 and depth = 13\n",
      "[LightGBM] [Debug] Trained a tree with leaves = 80 and depth = 14\n",
      "[LightGBM] [Debug] Trained a tree with leaves = 80 and depth = 12\n",
      "[LightGBM] [Debug] Trained a tree with leaves = 80 and depth = 13\n",
      "[LightGBM] [Debug] Trained a tree with leaves = 80 and depth = 15\n",
      "[LightGBM] [Debug] Trained a tree with leaves = 80 and depth = 14\n",
      "[LightGBM] [Debug] Trained a tree with leaves = 80 and depth = 10\n",
      "[LightGBM] [Debug] Trained a tree with leaves = 80 and depth = 16\n",
      "[LightGBM] [Debug] Trained a tree with leaves = 80 and depth = 16\n",
      "[LightGBM] [Debug] Trained a tree with leaves = 80 and depth = 13\n",
      "[LightGBM] [Debug] Trained a tree with leaves = 80 and depth = 14\n",
      "[LightGBM] [Debug] Trained a tree with leaves = 80 and depth = 12\n",
      "[LightGBM] [Debug] Trained a tree with leaves = 80 and depth = 14\n",
      "[LightGBM] [Debug] Trained a tree with leaves = 80 and depth = 16\n",
      "[LightGBM] [Debug] Trained a tree with leaves = 80 and depth = 16\n",
      "[LightGBM] [Debug] Trained a tree with leaves = 80 and depth = 13\n",
      "[LightGBM] [Debug] Trained a tree with leaves = 80 and depth = 15\n",
      "[LightGBM] [Debug] Trained a tree with leaves = 80 and depth = 16\n",
      "[LightGBM] [Debug] Trained a tree with leaves = 80 and depth = 12\n",
      "[LightGBM] [Debug] Trained a tree with leaves = 80 and depth = 13\n",
      "[LightGBM] [Debug] Trained a tree with leaves = 80 and depth = 16\n",
      "[LightGBM] [Debug] Trained a tree with leaves = 80 and depth = 12\n",
      "[LightGBM] [Debug] Trained a tree with leaves = 80 and depth = 16\n",
      "[LightGBM] [Debug] Trained a tree with leaves = 80 and depth = 12\n",
      "[LightGBM] [Debug] Trained a tree with leaves = 80 and depth = 15\n",
      "[LightGBM] [Debug] Trained a tree with leaves = 80 and depth = 14\n",
      "[LightGBM] [Debug] Trained a tree with leaves = 80 and depth = 12\n",
      "[LightGBM] [Debug] Trained a tree with leaves = 80 and depth = 16\n",
      "[LightGBM] [Debug] Trained a tree with leaves = 80 and depth = 11\n",
      "[LightGBM] [Debug] Trained a tree with leaves = 80 and depth = 12\n",
      "[LightGBM] [Debug] Trained a tree with leaves = 80 and depth = 16\n",
      "[LightGBM] [Debug] Trained a tree with leaves = 80 and depth = 16\n",
      "[LightGBM] [Debug] Trained a tree with leaves = 80 and depth = 14\n",
      "[LightGBM] [Debug] Trained a tree with leaves = 80 and depth = 15\n",
      "[LightGBM] [Debug] Trained a tree with leaves = 80 and depth = 14\n",
      "[LightGBM] [Debug] Trained a tree with leaves = 80 and depth = 15\n",
      "[LightGBM] [Debug] Trained a tree with leaves = 80 and depth = 13\n",
      "[LightGBM] [Debug] Trained a tree with leaves = 80 and depth = 15\n",
      "[LightGBM] [Debug] Trained a tree with leaves = 80 and depth = 12\n",
      "[LightGBM] [Debug] Trained a tree with leaves = 80 and depth = 12\n"
     ]
    },
    {
     "name": "stdout",
     "output_type": "stream",
     "text": [
      "[LightGBM] [Debug] Trained a tree with leaves = 80 and depth = 16\n",
      "[LightGBM] [Debug] Trained a tree with leaves = 80 and depth = 16\n",
      "[LightGBM] [Debug] Trained a tree with leaves = 80 and depth = 13\n",
      "[LightGBM] [Debug] Trained a tree with leaves = 80 and depth = 14\n",
      "[LightGBM] [Debug] Trained a tree with leaves = 80 and depth = 15\n",
      "[LightGBM] [Debug] Trained a tree with leaves = 80 and depth = 16\n",
      "[LightGBM] [Debug] Trained a tree with leaves = 80 and depth = 13\n",
      "[LightGBM] [Debug] Trained a tree with leaves = 80 and depth = 13\n",
      "[LightGBM] [Debug] Trained a tree with leaves = 80 and depth = 16\n",
      "[LightGBM] [Debug] Trained a tree with leaves = 80 and depth = 16\n",
      "[LightGBM] [Debug] Trained a tree with leaves = 80 and depth = 14\n",
      "[LightGBM] [Debug] Trained a tree with leaves = 80 and depth = 16\n",
      "[LightGBM] [Debug] Trained a tree with leaves = 80 and depth = 12\n",
      "[LightGBM] [Debug] Trained a tree with leaves = 80 and depth = 13\n",
      "[LightGBM] [Debug] Trained a tree with leaves = 80 and depth = 16\n",
      "[LightGBM] [Debug] Trained a tree with leaves = 80 and depth = 12\n",
      "[LightGBM] [Debug] Trained a tree with leaves = 80 and depth = 15\n",
      "[LightGBM] [Debug] Trained a tree with leaves = 80 and depth = 13\n",
      "[LightGBM] [Debug] Trained a tree with leaves = 80 and depth = 12\n",
      "[LightGBM] [Debug] Trained a tree with leaves = 80 and depth = 12\n",
      "[LightGBM] [Debug] Trained a tree with leaves = 80 and depth = 15\n",
      "[LightGBM] [Debug] Trained a tree with leaves = 80 and depth = 16\n",
      "[LightGBM] [Debug] Trained a tree with leaves = 80 and depth = 14\n",
      "[LightGBM] [Debug] Trained a tree with leaves = 80 and depth = 13\n",
      "[LightGBM] [Debug] Trained a tree with leaves = 80 and depth = 15\n",
      "[LightGBM] [Debug] Trained a tree with leaves = 80 and depth = 12\n",
      "[LightGBM] [Debug] Trained a tree with leaves = 80 and depth = 14\n",
      "[LightGBM] [Debug] Trained a tree with leaves = 80 and depth = 13\n",
      "[LightGBM] [Debug] Trained a tree with leaves = 80 and depth = 16\n",
      "[LightGBM] [Debug] Trained a tree with leaves = 80 and depth = 13\n",
      "[LightGBM] [Debug] Trained a tree with leaves = 80 and depth = 15\n",
      "[LightGBM] [Debug] Trained a tree with leaves = 80 and depth = 15\n",
      "[LightGBM] [Debug] Trained a tree with leaves = 80 and depth = 14\n",
      "[LightGBM] [Debug] Trained a tree with leaves = 80 and depth = 16\n",
      "[LightGBM] [Debug] Trained a tree with leaves = 80 and depth = 16\n",
      "[LightGBM] [Debug] Trained a tree with leaves = 80 and depth = 14\n",
      "[LightGBM] [Debug] Trained a tree with leaves = 80 and depth = 14\n",
      "[LightGBM] [Debug] Trained a tree with leaves = 80 and depth = 13\n",
      "[LightGBM] [Debug] Trained a tree with leaves = 80 and depth = 13\n",
      "[LightGBM] [Debug] Trained a tree with leaves = 80 and depth = 15\n",
      "[LightGBM] [Debug] Trained a tree with leaves = 80 and depth = 16\n",
      "[LightGBM] [Debug] Trained a tree with leaves = 80 and depth = 14\n",
      "[LightGBM] [Debug] Trained a tree with leaves = 80 and depth = 14\n",
      "[LightGBM] [Debug] Trained a tree with leaves = 80 and depth = 15\n",
      "[LightGBM] [Debug] Trained a tree with leaves = 80 and depth = 14\n",
      "[LightGBM] [Debug] Trained a tree with leaves = 80 and depth = 12\n",
      "[LightGBM] [Debug] Trained a tree with leaves = 80 and depth = 15\n",
      "[LightGBM] [Debug] Trained a tree with leaves = 80 and depth = 15\n",
      "[LightGBM] [Debug] Trained a tree with leaves = 80 and depth = 13\n",
      "[LightGBM] [Debug] Trained a tree with leaves = 80 and depth = 13\n",
      "[LightGBM] [Debug] Trained a tree with leaves = 80 and depth = 15\n",
      "[LightGBM] [Debug] Trained a tree with leaves = 80 and depth = 16\n",
      "[LightGBM] [Debug] Trained a tree with leaves = 80 and depth = 16\n",
      "[LightGBM] [Debug] Trained a tree with leaves = 80 and depth = 15\n",
      "[LightGBM] [Debug] Trained a tree with leaves = 80 and depth = 16\n",
      "[LightGBM] [Debug] Trained a tree with leaves = 80 and depth = 15\n",
      "[LightGBM] [Debug] Trained a tree with leaves = 80 and depth = 14\n",
      "[LightGBM] [Debug] Trained a tree with leaves = 80 and depth = 13\n",
      "[LightGBM] [Debug] Trained a tree with leaves = 80 and depth = 11\n",
      "[LightGBM] [Debug] Trained a tree with leaves = 80 and depth = 16\n",
      "[LightGBM] [Debug] Trained a tree with leaves = 80 and depth = 14\n",
      "[LightGBM] [Debug] Trained a tree with leaves = 80 and depth = 16\n",
      "[LightGBM] [Debug] Trained a tree with leaves = 80 and depth = 14\n",
      "[LightGBM] [Debug] Trained a tree with leaves = 80 and depth = 14\n",
      "[LightGBM] [Debug] Trained a tree with leaves = 80 and depth = 12\n",
      "[LightGBM] [Debug] Trained a tree with leaves = 80 and depth = 13\n",
      "[LightGBM] [Debug] Trained a tree with leaves = 80 and depth = 16\n",
      "[LightGBM] [Debug] Trained a tree with leaves = 80 and depth = 16\n",
      "[LightGBM] [Debug] Trained a tree with leaves = 80 and depth = 16\n",
      "[LightGBM] [Debug] Trained a tree with leaves = 80 and depth = 16\n",
      "[LightGBM] [Debug] Trained a tree with leaves = 80 and depth = 12\n",
      "[LightGBM] [Debug] Trained a tree with leaves = 80 and depth = 16\n",
      "[LightGBM] [Debug] Trained a tree with leaves = 80 and depth = 16\n",
      "[LightGBM] [Debug] Trained a tree with leaves = 80 and depth = 16\n",
      "[LightGBM] [Debug] Trained a tree with leaves = 80 and depth = 16\n",
      "[LightGBM] [Debug] Trained a tree with leaves = 80 and depth = 13\n",
      "[LightGBM] [Debug] Trained a tree with leaves = 80 and depth = 16\n",
      "[LightGBM] [Debug] Trained a tree with leaves = 80 and depth = 16\n",
      "[LightGBM] [Debug] Trained a tree with leaves = 80 and depth = 13\n",
      "[LightGBM] [Debug] Trained a tree with leaves = 80 and depth = 16\n"
     ]
    },
    {
     "data": {
      "text/html": [
       "<style>#sk-container-id-2 {color: black;background-color: white;}#sk-container-id-2 pre{padding: 0;}#sk-container-id-2 div.sk-toggleable {background-color: white;}#sk-container-id-2 label.sk-toggleable__label {cursor: pointer;display: block;width: 100%;margin-bottom: 0;padding: 0.3em;box-sizing: border-box;text-align: center;}#sk-container-id-2 label.sk-toggleable__label-arrow:before {content: \"▸\";float: left;margin-right: 0.25em;color: #696969;}#sk-container-id-2 label.sk-toggleable__label-arrow:hover:before {color: black;}#sk-container-id-2 div.sk-estimator:hover label.sk-toggleable__label-arrow:before {color: black;}#sk-container-id-2 div.sk-toggleable__content {max-height: 0;max-width: 0;overflow: hidden;text-align: left;background-color: #f0f8ff;}#sk-container-id-2 div.sk-toggleable__content pre {margin: 0.2em;color: black;border-radius: 0.25em;background-color: #f0f8ff;}#sk-container-id-2 input.sk-toggleable__control:checked~div.sk-toggleable__content {max-height: 200px;max-width: 100%;overflow: auto;}#sk-container-id-2 input.sk-toggleable__control:checked~label.sk-toggleable__label-arrow:before {content: \"▾\";}#sk-container-id-2 div.sk-estimator input.sk-toggleable__control:checked~label.sk-toggleable__label {background-color: #d4ebff;}#sk-container-id-2 div.sk-label input.sk-toggleable__control:checked~label.sk-toggleable__label {background-color: #d4ebff;}#sk-container-id-2 input.sk-hidden--visually {border: 0;clip: rect(1px 1px 1px 1px);clip: rect(1px, 1px, 1px, 1px);height: 1px;margin: -1px;overflow: hidden;padding: 0;position: absolute;width: 1px;}#sk-container-id-2 div.sk-estimator {font-family: monospace;background-color: #f0f8ff;border: 1px dotted black;border-radius: 0.25em;box-sizing: border-box;margin-bottom: 0.5em;}#sk-container-id-2 div.sk-estimator:hover {background-color: #d4ebff;}#sk-container-id-2 div.sk-parallel-item::after {content: \"\";width: 100%;border-bottom: 1px solid gray;flex-grow: 1;}#sk-container-id-2 div.sk-label:hover label.sk-toggleable__label {background-color: #d4ebff;}#sk-container-id-2 div.sk-serial::before {content: \"\";position: absolute;border-left: 1px solid gray;box-sizing: border-box;top: 0;bottom: 0;left: 50%;z-index: 0;}#sk-container-id-2 div.sk-serial {display: flex;flex-direction: column;align-items: center;background-color: white;padding-right: 0.2em;padding-left: 0.2em;position: relative;}#sk-container-id-2 div.sk-item {position: relative;z-index: 1;}#sk-container-id-2 div.sk-parallel {display: flex;align-items: stretch;justify-content: center;background-color: white;position: relative;}#sk-container-id-2 div.sk-item::before, #sk-container-id-2 div.sk-parallel-item::before {content: \"\";position: absolute;border-left: 1px solid gray;box-sizing: border-box;top: 0;bottom: 0;left: 50%;z-index: -1;}#sk-container-id-2 div.sk-parallel-item {display: flex;flex-direction: column;z-index: 1;position: relative;background-color: white;}#sk-container-id-2 div.sk-parallel-item:first-child::after {align-self: flex-end;width: 50%;}#sk-container-id-2 div.sk-parallel-item:last-child::after {align-self: flex-start;width: 50%;}#sk-container-id-2 div.sk-parallel-item:only-child::after {width: 0;}#sk-container-id-2 div.sk-dashed-wrapped {border: 1px dashed gray;margin: 0 0.4em 0.5em 0.4em;box-sizing: border-box;padding-bottom: 0.4em;background-color: white;}#sk-container-id-2 div.sk-label label {font-family: monospace;font-weight: bold;display: inline-block;line-height: 1.2em;}#sk-container-id-2 div.sk-label-container {text-align: center;}#sk-container-id-2 div.sk-container {/* jupyter's `normalize.less` sets `[hidden] { display: none; }` but bootstrap.min.css set `[hidden] { display: none !important; }` so we also need the `!important` here to be able to override the default hidden behavior on the sphinx rendered scikit-learn.org. See: https://github.com/scikit-learn/scikit-learn/issues/21755 */display: inline-block !important;position: relative;}#sk-container-id-2 div.sk-text-repr-fallback {display: none;}</style><div id=\"sk-container-id-2\" class=\"sk-top-container\"><div class=\"sk-text-repr-fallback\"><pre>LGBMClassifier(application=&#x27;binary&#x27;, boost_from_average=False,\n",
       "               boosting_type=&#x27;goss&#x27;, force_col_wise=True, learning_rate=0.05,\n",
       "               max_depth=16, n_estimators=200, num_leaves=80,\n",
       "               scale_pos_weight=5, verbose=2)</pre><b>In a Jupyter environment, please rerun this cell to show the HTML representation or trust the notebook. <br />On GitHub, the HTML representation is unable to render, please try loading this page with nbviewer.org.</b></div><div class=\"sk-container\" hidden><div class=\"sk-item\"><div class=\"sk-estimator sk-toggleable\"><input class=\"sk-toggleable__control sk-hidden--visually\" id=\"sk-estimator-id-2\" type=\"checkbox\" checked><label for=\"sk-estimator-id-2\" class=\"sk-toggleable__label sk-toggleable__label-arrow\">LGBMClassifier</label><div class=\"sk-toggleable__content\"><pre>LGBMClassifier(application=&#x27;binary&#x27;, boost_from_average=False,\n",
       "               boosting_type=&#x27;goss&#x27;, force_col_wise=True, learning_rate=0.05,\n",
       "               max_depth=16, n_estimators=200, num_leaves=80,\n",
       "               scale_pos_weight=5, verbose=2)</pre></div></div></div></div></div>"
      ],
      "text/plain": [
       "LGBMClassifier(application='binary', boost_from_average=False,\n",
       "               boosting_type='goss', force_col_wise=True, learning_rate=0.05,\n",
       "               max_depth=16, n_estimators=200, num_leaves=80,\n",
       "               scale_pos_weight=5, verbose=2)"
      ]
     },
     "execution_count": 22,
     "metadata": {},
     "output_type": "execute_result"
    }
   ],
   "source": [
    "from lightgbm import LGBMClassifier\n",
    "\n",
    "rfc = LGBMClassifier(n_estimators = 200,\n",
    "                       learning_rate=0.05, \n",
    "                        # n_estimators 랑 같은 것 같음\n",
    "                       max_depth = 16,\n",
    "                      num_leaves = 80,\n",
    "                       n_jobs=-1,\n",
    "                       scale_pos_weight=5,\n",
    "                       boosting_type='goss',\n",
    "                       boost_from_average=False,\n",
    "                       application  = 'binary',\n",
    "                       force_col_wise=True,\n",
    "                       verbose=2)\n",
    "\n",
    "rfc.fit(X_train,Y_train)"
   ]
  },
  {
   "cell_type": "code",
   "execution_count": 23,
   "metadata": {},
   "outputs": [
    {
     "data": {
      "text/plain": [
       "array([[0.98021753, 0.01978247],\n",
       "       [0.8892925 , 0.1107075 ],\n",
       "       [0.94623517, 0.05376483],\n",
       "       ...,\n",
       "       [0.97068182, 0.02931818],\n",
       "       [0.96840177, 0.03159823],\n",
       "       [0.68563322, 0.31436678]])"
      ]
     },
     "execution_count": 23,
     "metadata": {},
     "output_type": "execute_result"
    }
   ],
   "source": [
    "prob2 = rfc.predict_proba(X_test)\n",
    "prob2"
   ]
  },
  {
   "cell_type": "code",
   "execution_count": 24,
   "metadata": {},
   "outputs": [],
   "source": [
    "result_col = []\n",
    "for i in range(len(Y_test.values)):\n",
    "    result_col.append(prob2[:,1][i])"
   ]
  },
  {
   "cell_type": "code",
   "execution_count": 25,
   "metadata": {},
   "outputs": [
    {
     "data": {
      "text/plain": [
       "5.796397186152824"
      ]
     },
     "execution_count": 25,
     "metadata": {},
     "output_type": "execute_result"
    }
   ],
   "source": [
    "# criteria를 바꾸면서 6%근처로\n",
    "criteria = 0.6555\n",
    "result_bool = [0 if i <= criteria else 1 for i in result_col]\n",
    "\n",
    "sum(result_bool)/len(result_bool) * 100"
   ]
  },
  {
   "cell_type": "code",
   "execution_count": 26,
   "metadata": {},
   "outputs": [],
   "source": [
    "y_true = Y_test\n",
    "y_pred = result_bool"
   ]
  },
  {
   "cell_type": "code",
   "execution_count": 27,
   "metadata": {
    "scrolled": true
   },
   "outputs": [
    {
     "data": {
      "text/plain": [
       "0.7053674600060931"
      ]
     },
     "execution_count": 27,
     "metadata": {},
     "output_type": "execute_result"
    }
   ],
   "source": [
    "f1_score(y_true, y_pred, average='macro')"
   ]
  },
  {
   "cell_type": "code",
   "execution_count": null,
   "metadata": {},
   "outputs": [],
   "source": []
  },
  {
   "cell_type": "code",
   "execution_count": null,
   "metadata": {},
   "outputs": [],
   "source": []
  },
  {
   "cell_type": "markdown",
   "metadata": {},
   "source": [
    "# 제출 파일 만들어서 비교"
   ]
  },
  {
   "cell_type": "code",
   "execution_count": 47,
   "metadata": {},
   "outputs": [],
   "source": [
    "df2 = pd.read_csv('C:/Users/sjkan/Downloads/rawdata_tmp3.csv', encoding='utf-8')"
   ]
  },
  {
   "cell_type": "code",
   "execution_count": 48,
   "metadata": {},
   "outputs": [],
   "source": [
    "df2.drop(columns=['personal_rehabilitation_yn',\n",
    "       'personal_rehabilitation_complete_yn'],axis=1, inplace =True)"
   ]
  },
  {
   "cell_type": "code",
   "execution_count": 49,
   "metadata": {},
   "outputs": [],
   "source": [
    "df2 = df2[df2['is_applied'].isnull()==True]"
   ]
  },
  {
   "cell_type": "code",
   "execution_count": 50,
   "metadata": {},
   "outputs": [],
   "source": [
    "df2['credit_score'].fillna(759, inplace=True)"
   ]
  },
  {
   "cell_type": "code",
   "execution_count": 51,
   "metadata": {},
   "outputs": [],
   "source": [
    "df2.drop(columns=['loanapply_insert_time','insert_time'],axis=1, inplace =True)\n",
    "categorical_feats = ['bank_id','product_id','income_type', 'employment_type', 'houseown_type', 'purpose']\n",
    "cat_df = df2[categorical_feats]\n",
    "\n",
    "for c in categorical_feats:\n",
    "    df2[c] = df2[c].astype('category')    \n",
    "    \n",
    "from sklearn.preprocessing import RobustScaler, StandardScaler, MinMaxScaler\n",
    "\n",
    "scaler_df = df2.drop(['is_applied','bank_id','product_id','income_type', 'employment_type', 'houseown_type', 'purpose'], axis = 1)\n",
    "scale_df_col = scaler_df.columns\n",
    "\n",
    "scaler = RobustScaler()\n",
    "df_robust = scaler.fit_transform(scaler_df)\n",
    "df_robust = pd.DataFrame(df_robust, columns = scale_df_col)\n",
    "\n",
    "target = df2[['is_applied','bank_id','product_id','income_type', 'employment_type', 'houseown_type', 'purpose']]\n",
    "target.reset_index(drop=True, inplace=True)\n",
    "afterscale_df = pd.concat([df_robust,target], axis = 1)\n",
    "#afterscale_df['is_applied'] = afterscale_df['is_applied'].astype('int')"
   ]
  },
  {
   "cell_type": "code",
   "execution_count": 52,
   "metadata": {},
   "outputs": [],
   "source": [
    "df6 = afterscale_df[afterscale_df['is_applied'].isnull()==True]\n",
    "x_test_june = df6.drop(columns=['is_applied','application_id','user_id'], axis=1)\n",
    "y_test_june = df6['is_applied']"
   ]
  },
  {
   "cell_type": "code",
   "execution_count": 53,
   "metadata": {},
   "outputs": [],
   "source": [
    "answer = rfc.predict_proba(x_test_june)"
   ]
  },
  {
   "cell_type": "code",
   "execution_count": 54,
   "metadata": {},
   "outputs": [],
   "source": [
    "result_col = []\n",
    "for i in range(len(y_test_june.values)):\n",
    "    result_col.append(answer[:,1][i])"
   ]
  },
  {
   "cell_type": "code",
   "execution_count": 55,
   "metadata": {},
   "outputs": [
    {
     "data": {
      "text/plain": [
       "8.106664389482109"
      ]
     },
     "execution_count": 55,
     "metadata": {},
     "output_type": "execute_result"
    }
   ],
   "source": [
    "# criteria를 바꾸면서 6%근처로\n",
    "criteria = 0.6555\n",
    "result_bool = [0 if i <= criteria else 1 for i in result_col]\n",
    "\n",
    "sum(result_bool)/len(result_bool) * 100"
   ]
  },
  {
   "cell_type": "code",
   "execution_count": 59,
   "metadata": {},
   "outputs": [],
   "source": [
    "submission = df2[['application_id','product_id','is_applied']]"
   ]
  },
  {
   "cell_type": "code",
   "execution_count": 63,
   "metadata": {},
   "outputs": [
    {
     "name": "stderr",
     "output_type": "stream",
     "text": [
      "C:\\Users\\sjkan\\AppData\\Local\\Temp\\ipykernel_14604\\2026824180.py:1: SettingWithCopyWarning: \n",
      "A value is trying to be set on a copy of a slice from a DataFrame.\n",
      "Try using .loc[row_indexer,col_indexer] = value instead\n",
      "\n",
      "See the caveats in the documentation: https://pandas.pydata.org/pandas-docs/stable/user_guide/indexing.html#returning-a-view-versus-a-copy\n",
      "  submission['is_applied']=result_bool\n"
     ]
    }
   ],
   "source": [
    "submission['is_applied']=result_bool"
   ]
  },
  {
   "cell_type": "code",
   "execution_count": 64,
   "metadata": {},
   "outputs": [
    {
     "data": {
      "text/html": [
       "<div>\n",
       "<style scoped>\n",
       "    .dataframe tbody tr th:only-of-type {\n",
       "        vertical-align: middle;\n",
       "    }\n",
       "\n",
       "    .dataframe tbody tr th {\n",
       "        vertical-align: top;\n",
       "    }\n",
       "\n",
       "    .dataframe thead th {\n",
       "        text-align: right;\n",
       "    }\n",
       "</style>\n",
       "<table border=\"1\" class=\"dataframe\">\n",
       "  <thead>\n",
       "    <tr style=\"text-align: right;\">\n",
       "      <th></th>\n",
       "      <th>application_id</th>\n",
       "      <th>product_id</th>\n",
       "      <th>is_applied</th>\n",
       "    </tr>\n",
       "  </thead>\n",
       "  <tbody>\n",
       "    <tr>\n",
       "      <th>0</th>\n",
       "      <td>1748340</td>\n",
       "      <td>191</td>\n",
       "      <td>0</td>\n",
       "    </tr>\n",
       "    <tr>\n",
       "      <th>1</th>\n",
       "      <td>1748340</td>\n",
       "      <td>169</td>\n",
       "      <td>0</td>\n",
       "    </tr>\n",
       "    <tr>\n",
       "      <th>2</th>\n",
       "      <td>1748340</td>\n",
       "      <td>7</td>\n",
       "      <td>0</td>\n",
       "    </tr>\n",
       "    <tr>\n",
       "      <th>3</th>\n",
       "      <td>1748340</td>\n",
       "      <td>268</td>\n",
       "      <td>1</td>\n",
       "    </tr>\n",
       "    <tr>\n",
       "      <th>4</th>\n",
       "      <td>1748340</td>\n",
       "      <td>118</td>\n",
       "      <td>0</td>\n",
       "    </tr>\n",
       "    <tr>\n",
       "      <th>...</th>\n",
       "      <td>...</td>\n",
       "      <td>...</td>\n",
       "      <td>...</td>\n",
       "    </tr>\n",
       "    <tr>\n",
       "      <th>13519863</th>\n",
       "      <td>1428218</td>\n",
       "      <td>200</td>\n",
       "      <td>0</td>\n",
       "    </tr>\n",
       "    <tr>\n",
       "      <th>13519864</th>\n",
       "      <td>1428218</td>\n",
       "      <td>7</td>\n",
       "      <td>0</td>\n",
       "    </tr>\n",
       "    <tr>\n",
       "      <th>13519865</th>\n",
       "      <td>1428218</td>\n",
       "      <td>257</td>\n",
       "      <td>0</td>\n",
       "    </tr>\n",
       "    <tr>\n",
       "      <th>13519866</th>\n",
       "      <td>1428218</td>\n",
       "      <td>110</td>\n",
       "      <td>0</td>\n",
       "    </tr>\n",
       "    <tr>\n",
       "      <th>13519867</th>\n",
       "      <td>1428218</td>\n",
       "      <td>194</td>\n",
       "      <td>0</td>\n",
       "    </tr>\n",
       "  </tbody>\n",
       "</table>\n",
       "<p>3255482 rows × 3 columns</p>\n",
       "</div>"
      ],
      "text/plain": [
       "          application_id product_id  is_applied\n",
       "0                1748340        191           0\n",
       "1                1748340        169           0\n",
       "2                1748340          7           0\n",
       "3                1748340        268           1\n",
       "4                1748340        118           0\n",
       "...                  ...        ...         ...\n",
       "13519863         1428218        200           0\n",
       "13519864         1428218          7           0\n",
       "13519865         1428218        257           0\n",
       "13519866         1428218        110           0\n",
       "13519867         1428218        194           0\n",
       "\n",
       "[3255482 rows x 3 columns]"
      ]
     },
     "execution_count": 64,
     "metadata": {},
     "output_type": "execute_result"
    }
   ],
   "source": [
    "submission"
   ]
  },
  {
   "cell_type": "code",
   "execution_count": 69,
   "metadata": {},
   "outputs": [],
   "source": [
    "submit = pd.read_csv('C:/Users/sjkan/Downloads/데이터분석분야_퓨처스부문_평가데이터.csv', encoding='utf-8', usecols=[0,1])"
   ]
  },
  {
   "cell_type": "code",
   "execution_count": 70,
   "metadata": {},
   "outputs": [
    {
     "data": {
      "text/html": [
       "<div>\n",
       "<style scoped>\n",
       "    .dataframe tbody tr th:only-of-type {\n",
       "        vertical-align: middle;\n",
       "    }\n",
       "\n",
       "    .dataframe tbody tr th {\n",
       "        vertical-align: top;\n",
       "    }\n",
       "\n",
       "    .dataframe thead th {\n",
       "        text-align: right;\n",
       "    }\n",
       "</style>\n",
       "<table border=\"1\" class=\"dataframe\">\n",
       "  <thead>\n",
       "    <tr style=\"text-align: right;\">\n",
       "      <th></th>\n",
       "      <th>application_id</th>\n",
       "      <th>product_id</th>\n",
       "    </tr>\n",
       "  </thead>\n",
       "  <tbody>\n",
       "    <tr>\n",
       "      <th>0</th>\n",
       "      <td>4</td>\n",
       "      <td>220</td>\n",
       "    </tr>\n",
       "    <tr>\n",
       "      <th>1</th>\n",
       "      <td>4</td>\n",
       "      <td>191</td>\n",
       "    </tr>\n",
       "    <tr>\n",
       "      <th>2</th>\n",
       "      <td>8</td>\n",
       "      <td>29</td>\n",
       "    </tr>\n",
       "    <tr>\n",
       "      <th>3</th>\n",
       "      <td>8</td>\n",
       "      <td>159</td>\n",
       "    </tr>\n",
       "    <tr>\n",
       "      <th>4</th>\n",
       "      <td>8</td>\n",
       "      <td>85</td>\n",
       "    </tr>\n",
       "    <tr>\n",
       "      <th>...</th>\n",
       "      <td>...</td>\n",
       "      <td>...</td>\n",
       "    </tr>\n",
       "    <tr>\n",
       "      <th>3255189</th>\n",
       "      <td>2167778</td>\n",
       "      <td>258</td>\n",
       "    </tr>\n",
       "    <tr>\n",
       "      <th>3255190</th>\n",
       "      <td>2167791</td>\n",
       "      <td>29</td>\n",
       "    </tr>\n",
       "    <tr>\n",
       "      <th>3255191</th>\n",
       "      <td>2167822</td>\n",
       "      <td>149</td>\n",
       "    </tr>\n",
       "    <tr>\n",
       "      <th>3255192</th>\n",
       "      <td>2167822</td>\n",
       "      <td>157</td>\n",
       "    </tr>\n",
       "    <tr>\n",
       "      <th>3255193</th>\n",
       "      <td>2167822</td>\n",
       "      <td>65</td>\n",
       "    </tr>\n",
       "  </tbody>\n",
       "</table>\n",
       "<p>3255194 rows × 2 columns</p>\n",
       "</div>"
      ],
      "text/plain": [
       "         application_id  product_id\n",
       "0                     4         220\n",
       "1                     4         191\n",
       "2                     8          29\n",
       "3                     8         159\n",
       "4                     8          85\n",
       "...                 ...         ...\n",
       "3255189         2167778         258\n",
       "3255190         2167791          29\n",
       "3255191         2167822         149\n",
       "3255192         2167822         157\n",
       "3255193         2167822          65\n",
       "\n",
       "[3255194 rows x 2 columns]"
      ]
     },
     "execution_count": 70,
     "metadata": {},
     "output_type": "execute_result"
    }
   ],
   "source": [
    "submit"
   ]
  },
  {
   "cell_type": "code",
   "execution_count": 72,
   "metadata": {},
   "outputs": [],
   "source": [
    "# 기준열 이름이 같을 때\n",
    "real_answer = pd.merge(submit, submission, on = ['application_id','product_id'], how = 'left')"
   ]
  },
  {
   "cell_type": "code",
   "execution_count": 75,
   "metadata": {},
   "outputs": [
    {
     "data": {
      "text/html": [
       "<div>\n",
       "<style scoped>\n",
       "    .dataframe tbody tr th:only-of-type {\n",
       "        vertical-align: middle;\n",
       "    }\n",
       "\n",
       "    .dataframe tbody tr th {\n",
       "        vertical-align: top;\n",
       "    }\n",
       "\n",
       "    .dataframe thead th {\n",
       "        text-align: right;\n",
       "    }\n",
       "</style>\n",
       "<table border=\"1\" class=\"dataframe\">\n",
       "  <thead>\n",
       "    <tr style=\"text-align: right;\">\n",
       "      <th></th>\n",
       "      <th>application_id</th>\n",
       "      <th>product_id</th>\n",
       "      <th>is_applied</th>\n",
       "    </tr>\n",
       "  </thead>\n",
       "  <tbody>\n",
       "    <tr>\n",
       "      <th>0</th>\n",
       "      <td>4</td>\n",
       "      <td>220</td>\n",
       "      <td>0</td>\n",
       "    </tr>\n",
       "    <tr>\n",
       "      <th>1</th>\n",
       "      <td>4</td>\n",
       "      <td>191</td>\n",
       "      <td>1</td>\n",
       "    </tr>\n",
       "    <tr>\n",
       "      <th>2</th>\n",
       "      <td>8</td>\n",
       "      <td>29</td>\n",
       "      <td>1</td>\n",
       "    </tr>\n",
       "    <tr>\n",
       "      <th>3</th>\n",
       "      <td>8</td>\n",
       "      <td>159</td>\n",
       "      <td>0</td>\n",
       "    </tr>\n",
       "    <tr>\n",
       "      <th>4</th>\n",
       "      <td>8</td>\n",
       "      <td>85</td>\n",
       "      <td>1</td>\n",
       "    </tr>\n",
       "    <tr>\n",
       "      <th>...</th>\n",
       "      <td>...</td>\n",
       "      <td>...</td>\n",
       "      <td>...</td>\n",
       "    </tr>\n",
       "    <tr>\n",
       "      <th>3255189</th>\n",
       "      <td>2167778</td>\n",
       "      <td>258</td>\n",
       "      <td>1</td>\n",
       "    </tr>\n",
       "    <tr>\n",
       "      <th>3255190</th>\n",
       "      <td>2167791</td>\n",
       "      <td>29</td>\n",
       "      <td>1</td>\n",
       "    </tr>\n",
       "    <tr>\n",
       "      <th>3255191</th>\n",
       "      <td>2167822</td>\n",
       "      <td>149</td>\n",
       "      <td>1</td>\n",
       "    </tr>\n",
       "    <tr>\n",
       "      <th>3255192</th>\n",
       "      <td>2167822</td>\n",
       "      <td>157</td>\n",
       "      <td>1</td>\n",
       "    </tr>\n",
       "    <tr>\n",
       "      <th>3255193</th>\n",
       "      <td>2167822</td>\n",
       "      <td>65</td>\n",
       "      <td>0</td>\n",
       "    </tr>\n",
       "  </tbody>\n",
       "</table>\n",
       "<p>3255194 rows × 3 columns</p>\n",
       "</div>"
      ],
      "text/plain": [
       "         application_id product_id  is_applied\n",
       "0                     4        220           0\n",
       "1                     4        191           1\n",
       "2                     8         29           1\n",
       "3                     8        159           0\n",
       "4                     8         85           1\n",
       "...                 ...        ...         ...\n",
       "3255189         2167778        258           1\n",
       "3255190         2167791         29           1\n",
       "3255191         2167822        149           1\n",
       "3255192         2167822        157           1\n",
       "3255193         2167822         65           0\n",
       "\n",
       "[3255194 rows x 3 columns]"
      ]
     },
     "execution_count": 75,
     "metadata": {},
     "output_type": "execute_result"
    }
   ],
   "source": [
    "real_answer"
   ]
  },
  {
   "cell_type": "code",
   "execution_count": 74,
   "metadata": {
    "scrolled": true
   },
   "outputs": [],
   "source": [
    "#real_answer.to_csv(\"./data들/와빅병아리-코드결과.csv\", encoding='utf-8', index=False)"
   ]
  },
  {
   "cell_type": "code",
   "execution_count": null,
   "metadata": {},
   "outputs": [],
   "source": []
  },
  {
   "cell_type": "code",
   "execution_count": null,
   "metadata": {},
   "outputs": [],
   "source": []
  },
  {
   "cell_type": "markdown",
   "metadata": {},
   "source": [
    "# Xgboost"
   ]
  },
  {
   "cell_type": "code",
   "execution_count": 138,
   "metadata": {},
   "outputs": [
    {
     "data": {
      "text/html": [
       "<div>\n",
       "<style scoped>\n",
       "    .dataframe tbody tr th:only-of-type {\n",
       "        vertical-align: middle;\n",
       "    }\n",
       "\n",
       "    .dataframe tbody tr th {\n",
       "        vertical-align: top;\n",
       "    }\n",
       "\n",
       "    .dataframe thead th {\n",
       "        text-align: right;\n",
       "    }\n",
       "</style>\n",
       "<table border=\"1\" class=\"dataframe\">\n",
       "  <thead>\n",
       "    <tr style=\"text-align: right;\">\n",
       "      <th></th>\n",
       "      <th>application_id</th>\n",
       "      <th>loanapply_insert_time</th>\n",
       "      <th>bank_id</th>\n",
       "      <th>product_id</th>\n",
       "      <th>loan_limit</th>\n",
       "      <th>loan_rate</th>\n",
       "      <th>is_applied</th>\n",
       "      <th>user_id</th>\n",
       "      <th>birth_year</th>\n",
       "      <th>gender</th>\n",
       "      <th>...</th>\n",
       "      <th>UsePrepayCalc</th>\n",
       "      <th>SignUp</th>\n",
       "      <th>StartLoanApply</th>\n",
       "      <th>EndLoanApply</th>\n",
       "      <th>GetCreditInfo</th>\n",
       "      <th>UseLoanManage</th>\n",
       "      <th>ViewLoanApplyIntro</th>\n",
       "      <th>loan_limit_rank</th>\n",
       "      <th>loan_rate_rank</th>\n",
       "      <th>bank_ratio</th>\n",
       "    </tr>\n",
       "  </thead>\n",
       "  <tbody>\n",
       "    <tr>\n",
       "      <th>0</th>\n",
       "      <td>2157865</td>\n",
       "      <td>2022-05-09 08:44:59</td>\n",
       "      <td>54</td>\n",
       "      <td>235</td>\n",
       "      <td>20000000.0</td>\n",
       "      <td>16.5</td>\n",
       "      <td>1.0</td>\n",
       "      <td>346970.0</td>\n",
       "      <td>1970.0</td>\n",
       "      <td>1.0</td>\n",
       "      <td>...</td>\n",
       "      <td>0.0</td>\n",
       "      <td>0.0</td>\n",
       "      <td>4.0</td>\n",
       "      <td>13.0</td>\n",
       "      <td>6.0</td>\n",
       "      <td>5.0</td>\n",
       "      <td>5.0</td>\n",
       "      <td>1.0</td>\n",
       "      <td>1.0</td>\n",
       "      <td>0.042501</td>\n",
       "    </tr>\n",
       "    <tr>\n",
       "      <th>1</th>\n",
       "      <td>576643</td>\n",
       "      <td>2022-05-09 10:54:53</td>\n",
       "      <td>54</td>\n",
       "      <td>235</td>\n",
       "      <td>11000000.0</td>\n",
       "      <td>16.5</td>\n",
       "      <td>0.0</td>\n",
       "      <td>545882.0</td>\n",
       "      <td>1977.0</td>\n",
       "      <td>1.0</td>\n",
       "      <td>...</td>\n",
       "      <td>0.0</td>\n",
       "      <td>0.0</td>\n",
       "      <td>19.0</td>\n",
       "      <td>21.0</td>\n",
       "      <td>0.0</td>\n",
       "      <td>0.0</td>\n",
       "      <td>14.0</td>\n",
       "      <td>1.0</td>\n",
       "      <td>2.0</td>\n",
       "      <td>0.042501</td>\n",
       "    </tr>\n",
       "    <tr>\n",
       "      <th>2</th>\n",
       "      <td>576643</td>\n",
       "      <td>2022-05-09 10:54:53</td>\n",
       "      <td>11</td>\n",
       "      <td>118</td>\n",
       "      <td>3000000.0</td>\n",
       "      <td>20.0</td>\n",
       "      <td>0.0</td>\n",
       "      <td>545882.0</td>\n",
       "      <td>1977.0</td>\n",
       "      <td>1.0</td>\n",
       "      <td>...</td>\n",
       "      <td>0.0</td>\n",
       "      <td>0.0</td>\n",
       "      <td>19.0</td>\n",
       "      <td>21.0</td>\n",
       "      <td>0.0</td>\n",
       "      <td>0.0</td>\n",
       "      <td>14.0</td>\n",
       "      <td>2.0</td>\n",
       "      <td>1.0</td>\n",
       "      <td>0.016988</td>\n",
       "    </tr>\n",
       "    <tr>\n",
       "      <th>3</th>\n",
       "      <td>2136706</td>\n",
       "      <td>2022-05-09 10:41:06</td>\n",
       "      <td>42</td>\n",
       "      <td>216</td>\n",
       "      <td>10000000.0</td>\n",
       "      <td>13.5</td>\n",
       "      <td>0.0</td>\n",
       "      <td>558819.0</td>\n",
       "      <td>1983.0</td>\n",
       "      <td>1.0</td>\n",
       "      <td>...</td>\n",
       "      <td>0.0</td>\n",
       "      <td>0.0</td>\n",
       "      <td>32.0</td>\n",
       "      <td>29.0</td>\n",
       "      <td>18.0</td>\n",
       "      <td>15.0</td>\n",
       "      <td>7.0</td>\n",
       "      <td>32.0</td>\n",
       "      <td>21.0</td>\n",
       "      <td>0.024209</td>\n",
       "    </tr>\n",
       "    <tr>\n",
       "      <th>4</th>\n",
       "      <td>2136706</td>\n",
       "      <td>2022-05-09 10:41:07</td>\n",
       "      <td>25</td>\n",
       "      <td>169</td>\n",
       "      <td>22000000.0</td>\n",
       "      <td>15.9</td>\n",
       "      <td>0.0</td>\n",
       "      <td>558819.0</td>\n",
       "      <td>1983.0</td>\n",
       "      <td>1.0</td>\n",
       "      <td>...</td>\n",
       "      <td>0.0</td>\n",
       "      <td>0.0</td>\n",
       "      <td>32.0</td>\n",
       "      <td>29.0</td>\n",
       "      <td>18.0</td>\n",
       "      <td>15.0</td>\n",
       "      <td>7.0</td>\n",
       "      <td>20.0</td>\n",
       "      <td>11.0</td>\n",
       "      <td>0.021180</td>\n",
       "    </tr>\n",
       "  </tbody>\n",
       "</table>\n",
       "<p>5 rows × 37 columns</p>\n",
       "</div>"
      ],
      "text/plain": [
       "   application_id loanapply_insert_time  bank_id  product_id  loan_limit  \\\n",
       "0         2157865   2022-05-09 08:44:59       54         235  20000000.0   \n",
       "1          576643   2022-05-09 10:54:53       54         235  11000000.0   \n",
       "2          576643   2022-05-09 10:54:53       11         118   3000000.0   \n",
       "3         2136706   2022-05-09 10:41:06       42         216  10000000.0   \n",
       "4         2136706   2022-05-09 10:41:07       25         169  22000000.0   \n",
       "\n",
       "   loan_rate  is_applied   user_id  birth_year  gender  ... UsePrepayCalc  \\\n",
       "0       16.5         1.0  346970.0      1970.0     1.0  ...           0.0   \n",
       "1       16.5         0.0  545882.0      1977.0     1.0  ...           0.0   \n",
       "2       20.0         0.0  545882.0      1977.0     1.0  ...           0.0   \n",
       "3       13.5         0.0  558819.0      1983.0     1.0  ...           0.0   \n",
       "4       15.9         0.0  558819.0      1983.0     1.0  ...           0.0   \n",
       "\n",
       "   SignUp  StartLoanApply EndLoanApply  GetCreditInfo UseLoanManage  \\\n",
       "0     0.0             4.0         13.0            6.0           5.0   \n",
       "1     0.0            19.0         21.0            0.0           0.0   \n",
       "2     0.0            19.0         21.0            0.0           0.0   \n",
       "3     0.0            32.0         29.0           18.0          15.0   \n",
       "4     0.0            32.0         29.0           18.0          15.0   \n",
       "\n",
       "  ViewLoanApplyIntro  loan_limit_rank loan_rate_rank  bank_ratio  \n",
       "0                5.0              1.0            1.0    0.042501  \n",
       "1               14.0              1.0            2.0    0.042501  \n",
       "2               14.0              2.0            1.0    0.016988  \n",
       "3                7.0             32.0           21.0    0.024209  \n",
       "4                7.0             20.0           11.0    0.021180  \n",
       "\n",
       "[5 rows x 37 columns]"
      ]
     },
     "execution_count": 138,
     "metadata": {},
     "output_type": "execute_result"
    }
   ],
   "source": [
    "df = pd.read_csv('C:/Users/sjkan/Downloads/tmp777.csv', encoding='utf-8')\n",
    "df.head()"
   ]
  },
  {
   "cell_type": "code",
   "execution_count": 139,
   "metadata": {},
   "outputs": [],
   "source": [
    "df.drop(columns=['loanapply_insert_time','insert_time'],axis=1, inplace =True)"
   ]
  },
  {
   "cell_type": "code",
   "execution_count": 140,
   "metadata": {},
   "outputs": [],
   "source": [
    "# 데이터 타입 변경\n",
    "\n",
    "#df.info()\n",
    "\n",
    "categorical_feats = ['bank_id','product_id','income_type', 'employment_type', 'houseown_type', 'purpose']\n",
    "\n",
    "cat_df = df[categorical_feats]\n",
    "\n",
    "for c in categorical_feats:\n",
    "    df[c] = df[c].astype('category')\n",
    "\n",
    "# 범주형 ordinal encoding\n",
    "\n",
    "from category_encoders import OrdinalEncoder\n",
    "\n",
    "enc1 = OrdinalEncoder(cols = cat_df.columns)\n",
    "\n",
    "#cat_df\n",
    "\n",
    "cat_df = enc1.fit_transform(cat_df)\n",
    "#cat_df.head()\n",
    "\n",
    "df_tmp1 = df.drop(categorical_feats, axis = 1)\n",
    "df_tmp1.reset_index(drop=True, inplace=True)\n",
    "cat_df.reset_index(drop=True, inplace=True)\n",
    "df = pd.concat([df_tmp1,cat_df], axis = 1)\n",
    "\n",
    "del df_tmp1, cat_df"
   ]
  },
  {
   "cell_type": "markdown",
   "metadata": {
    "id": "AwkB8DNrxjse"
   },
   "source": [
    "# 스케일링"
   ]
  },
  {
   "cell_type": "code",
   "execution_count": 141,
   "metadata": {
    "scrolled": true
   },
   "outputs": [
    {
     "data": {
      "text/html": [
       "<div>\n",
       "<style scoped>\n",
       "    .dataframe tbody tr th:only-of-type {\n",
       "        vertical-align: middle;\n",
       "    }\n",
       "\n",
       "    .dataframe tbody tr th {\n",
       "        vertical-align: top;\n",
       "    }\n",
       "\n",
       "    .dataframe thead th {\n",
       "        text-align: right;\n",
       "    }\n",
       "</style>\n",
       "<table border=\"1\" class=\"dataframe\">\n",
       "  <thead>\n",
       "    <tr style=\"text-align: right;\">\n",
       "      <th></th>\n",
       "      <th>application_id</th>\n",
       "      <th>loan_limit</th>\n",
       "      <th>loan_rate</th>\n",
       "      <th>user_id</th>\n",
       "      <th>birth_year</th>\n",
       "      <th>gender</th>\n",
       "      <th>credit_score</th>\n",
       "      <th>yearly_income</th>\n",
       "      <th>company_enter_month</th>\n",
       "      <th>desired_amount</th>\n",
       "      <th>...</th>\n",
       "      <th>loan_limit_rank</th>\n",
       "      <th>loan_rate_rank</th>\n",
       "      <th>bank_ratio</th>\n",
       "      <th>bank_id</th>\n",
       "      <th>product_id</th>\n",
       "      <th>income_type</th>\n",
       "      <th>employment_type</th>\n",
       "      <th>houseown_type</th>\n",
       "      <th>purpose</th>\n",
       "      <th>is_applied</th>\n",
       "    </tr>\n",
       "  </thead>\n",
       "  <tbody>\n",
       "    <tr>\n",
       "      <th>0</th>\n",
       "      <td>0.989750</td>\n",
       "      <td>0.130435</td>\n",
       "      <td>0.508197</td>\n",
       "      <td>-0.213592</td>\n",
       "      <td>-0.928571</td>\n",
       "      <td>0.0</td>\n",
       "      <td>-0.947368</td>\n",
       "      <td>-0.25</td>\n",
       "      <td>-1.395960</td>\n",
       "      <td>-0.375</td>\n",
       "      <td>...</td>\n",
       "      <td>-0.583333</td>\n",
       "      <td>-0.583333</td>\n",
       "      <td>-0.108504</td>\n",
       "      <td>-1.04</td>\n",
       "      <td>-0.893617</td>\n",
       "      <td>0.0</td>\n",
       "      <td>0.0</td>\n",
       "      <td>-0.5</td>\n",
       "      <td>0.0</td>\n",
       "      <td>1</td>\n",
       "    </tr>\n",
       "    <tr>\n",
       "      <th>1</th>\n",
       "      <td>-0.468646</td>\n",
       "      <td>-0.260870</td>\n",
       "      <td>0.508197</td>\n",
       "      <td>0.239626</td>\n",
       "      <td>-0.428571</td>\n",
       "      <td>0.0</td>\n",
       "      <td>-0.736842</td>\n",
       "      <td>1.75</td>\n",
       "      <td>-0.191919</td>\n",
       "      <td>-0.125</td>\n",
       "      <td>...</td>\n",
       "      <td>-0.583333</td>\n",
       "      <td>-0.527778</td>\n",
       "      <td>-0.108504</td>\n",
       "      <td>-1.04</td>\n",
       "      <td>-0.893617</td>\n",
       "      <td>0.0</td>\n",
       "      <td>0.0</td>\n",
       "      <td>0.0</td>\n",
       "      <td>0.0</td>\n",
       "      <td>0</td>\n",
       "    </tr>\n",
       "    <tr>\n",
       "      <th>2</th>\n",
       "      <td>-0.468646</td>\n",
       "      <td>-0.608696</td>\n",
       "      <td>1.081967</td>\n",
       "      <td>0.239626</td>\n",
       "      <td>-0.428571</td>\n",
       "      <td>0.0</td>\n",
       "      <td>-0.736842</td>\n",
       "      <td>1.75</td>\n",
       "      <td>-0.191919</td>\n",
       "      <td>-0.125</td>\n",
       "      <td>...</td>\n",
       "      <td>-0.527778</td>\n",
       "      <td>-0.583333</td>\n",
       "      <td>-0.767113</td>\n",
       "      <td>-1.00</td>\n",
       "      <td>-0.872340</td>\n",
       "      <td>0.0</td>\n",
       "      <td>0.0</td>\n",
       "      <td>0.0</td>\n",
       "      <td>0.0</td>\n",
       "      <td>0</td>\n",
       "    </tr>\n",
       "    <tr>\n",
       "      <th>3</th>\n",
       "      <td>0.970234</td>\n",
       "      <td>-0.304348</td>\n",
       "      <td>0.016393</td>\n",
       "      <td>0.269102</td>\n",
       "      <td>0.000000</td>\n",
       "      <td>0.0</td>\n",
       "      <td>0.105263</td>\n",
       "      <td>0.10</td>\n",
       "      <td>-1.616162</td>\n",
       "      <td>1.375</td>\n",
       "      <td>...</td>\n",
       "      <td>1.138889</td>\n",
       "      <td>0.527778</td>\n",
       "      <td>-0.580701</td>\n",
       "      <td>-0.96</td>\n",
       "      <td>-0.851064</td>\n",
       "      <td>0.0</td>\n",
       "      <td>0.0</td>\n",
       "      <td>0.0</td>\n",
       "      <td>1.0</td>\n",
       "      <td>0</td>\n",
       "    </tr>\n",
       "    <tr>\n",
       "      <th>4</th>\n",
       "      <td>0.970234</td>\n",
       "      <td>0.217391</td>\n",
       "      <td>0.409836</td>\n",
       "      <td>0.269102</td>\n",
       "      <td>0.000000</td>\n",
       "      <td>0.0</td>\n",
       "      <td>0.105263</td>\n",
       "      <td>0.10</td>\n",
       "      <td>-1.616162</td>\n",
       "      <td>1.375</td>\n",
       "      <td>...</td>\n",
       "      <td>0.472222</td>\n",
       "      <td>-0.027778</td>\n",
       "      <td>-0.658898</td>\n",
       "      <td>-0.92</td>\n",
       "      <td>-0.829787</td>\n",
       "      <td>0.0</td>\n",
       "      <td>0.0</td>\n",
       "      <td>0.0</td>\n",
       "      <td>1.0</td>\n",
       "      <td>0</td>\n",
       "    </tr>\n",
       "  </tbody>\n",
       "</table>\n",
       "<p>5 rows × 35 columns</p>\n",
       "</div>"
      ],
      "text/plain": [
       "   application_id  loan_limit  loan_rate   user_id  birth_year  gender  \\\n",
       "0        0.989750    0.130435   0.508197 -0.213592   -0.928571     0.0   \n",
       "1       -0.468646   -0.260870   0.508197  0.239626   -0.428571     0.0   \n",
       "2       -0.468646   -0.608696   1.081967  0.239626   -0.428571     0.0   \n",
       "3        0.970234   -0.304348   0.016393  0.269102    0.000000     0.0   \n",
       "4        0.970234    0.217391   0.409836  0.269102    0.000000     0.0   \n",
       "\n",
       "   credit_score  yearly_income  company_enter_month  desired_amount  ...  \\\n",
       "0     -0.947368          -0.25            -1.395960          -0.375  ...   \n",
       "1     -0.736842           1.75            -0.191919          -0.125  ...   \n",
       "2     -0.736842           1.75            -0.191919          -0.125  ...   \n",
       "3      0.105263           0.10            -1.616162           1.375  ...   \n",
       "4      0.105263           0.10            -1.616162           1.375  ...   \n",
       "\n",
       "   loan_limit_rank  loan_rate_rank  bank_ratio  bank_id  product_id  \\\n",
       "0        -0.583333       -0.583333   -0.108504    -1.04   -0.893617   \n",
       "1        -0.583333       -0.527778   -0.108504    -1.04   -0.893617   \n",
       "2        -0.527778       -0.583333   -0.767113    -1.00   -0.872340   \n",
       "3         1.138889        0.527778   -0.580701    -0.96   -0.851064   \n",
       "4         0.472222       -0.027778   -0.658898    -0.92   -0.829787   \n",
       "\n",
       "   income_type  employment_type  houseown_type  purpose  is_applied  \n",
       "0          0.0              0.0           -0.5      0.0           1  \n",
       "1          0.0              0.0            0.0      0.0           0  \n",
       "2          0.0              0.0            0.0      0.0           0  \n",
       "3          0.0              0.0            0.0      1.0           0  \n",
       "4          0.0              0.0            0.0      1.0           0  \n",
       "\n",
       "[5 rows x 35 columns]"
      ]
     },
     "execution_count": 141,
     "metadata": {},
     "output_type": "execute_result"
    }
   ],
   "source": [
    "from sklearn.preprocessing import RobustScaler, StandardScaler, MinMaxScaler\n",
    "\n",
    "\n",
    "scaler_df = df.drop(['is_applied'], axis = 1)\n",
    "\n",
    "scale_df_col = scaler_df.columns\n",
    "\n",
    "scaler = RobustScaler()\n",
    "df_robust = scaler.fit_transform(scaler_df)\n",
    "\n",
    "df_robust = pd.DataFrame(df_robust, columns = scale_df_col)\n",
    "\n",
    "\n",
    "target = df[['is_applied']]\n",
    "\n",
    "target.reset_index(drop=True, inplace=True)\n",
    "\n",
    "afterscale_df = pd.concat([df_robust,target], axis = 1)\n",
    "\n",
    "afterscale_df['is_applied'] = afterscale_df['is_applied'].astype('int')\n",
    "\n",
    "afterscale_df.head()"
   ]
  },
  {
   "cell_type": "code",
   "execution_count": null,
   "metadata": {},
   "outputs": [],
   "source": []
  },
  {
   "cell_type": "code",
   "execution_count": 142,
   "metadata": {},
   "outputs": [],
   "source": [
    "#1안 - bank_ratio 일단 빼기\n",
    "X = df.drop(['is_applied','application_id','user_id','bank_ratio'], axis=1) # 'bank_id',  'product_id'\n",
    "Y = df['is_applied']\n",
    "X_train, X_test, Y_train, Y_test = train_test_split(X, Y, test_size = 0.2, random_state = 42, stratify=Y)"
   ]
  },
  {
   "cell_type": "code",
   "execution_count": 188,
   "metadata": {
    "scrolled": true
   },
   "outputs": [
    {
     "name": "stderr",
     "output_type": "stream",
     "text": [
      "C:\\Users\\sjkan\\anaconda3\\lib\\site-packages\\xgboost\\sklearn.py:793: UserWarning: `eval_metric` in `fit` method is deprecated for better compatibility with scikit-learn, use `eval_metric` in constructor or`set_params` instead.\n",
      "  warnings.warn(\n",
      "C:\\Users\\sjkan\\anaconda3\\lib\\site-packages\\xgboost\\sklearn.py:793: UserWarning: `early_stopping_rounds` in `fit` method is deprecated for better compatibility with scikit-learn, use `early_stopping_rounds` in constructor or`set_params` instead.\n",
      "  warnings.warn(\n"
     ]
    },
    {
     "name": "stdout",
     "output_type": "stream",
     "text": [
      "[0]\tvalidation_0-logloss:0.52383\n",
      "[2]\tvalidation_0-logloss:0.36650\n",
      "[4]\tvalidation_0-logloss:0.29736\n",
      "[6]\tvalidation_0-logloss:0.26355\n",
      "[8]\tvalidation_0-logloss:0.24530\n",
      "[10]\tvalidation_0-logloss:0.23501\n",
      "[12]\tvalidation_0-logloss:0.22846\n",
      "[14]\tvalidation_0-logloss:0.22416\n",
      "[16]\tvalidation_0-logloss:0.22090\n",
      "[18]\tvalidation_0-logloss:0.21891\n",
      "[20]\tvalidation_0-logloss:0.21704\n",
      "[22]\tvalidation_0-logloss:0.21582\n",
      "[24]\tvalidation_0-logloss:0.21471\n",
      "[26]\tvalidation_0-logloss:0.21378\n",
      "[28]\tvalidation_0-logloss:0.21305\n",
      "[30]\tvalidation_0-logloss:0.21217\n",
      "[32]\tvalidation_0-logloss:0.21165\n",
      "[34]\tvalidation_0-logloss:0.21124\n",
      "[36]\tvalidation_0-logloss:0.21066\n",
      "[38]\tvalidation_0-logloss:0.21019\n",
      "[40]\tvalidation_0-logloss:0.20972\n",
      "[42]\tvalidation_0-logloss:0.20934\n",
      "[44]\tvalidation_0-logloss:0.20895\n",
      "[46]\tvalidation_0-logloss:0.20867\n",
      "[48]\tvalidation_0-logloss:0.20842\n",
      "[50]\tvalidation_0-logloss:0.20813\n",
      "[52]\tvalidation_0-logloss:0.20794\n",
      "[54]\tvalidation_0-logloss:0.20774\n",
      "[56]\tvalidation_0-logloss:0.20759\n",
      "[58]\tvalidation_0-logloss:0.20735\n",
      "[60]\tvalidation_0-logloss:0.20711\n",
      "[62]\tvalidation_0-logloss:0.20693\n",
      "[64]\tvalidation_0-logloss:0.20680\n",
      "[66]\tvalidation_0-logloss:0.20667\n",
      "[68]\tvalidation_0-logloss:0.20645\n",
      "[70]\tvalidation_0-logloss:0.20625\n",
      "[72]\tvalidation_0-logloss:0.20613\n",
      "[74]\tvalidation_0-logloss:0.20595\n",
      "[76]\tvalidation_0-logloss:0.20572\n",
      "[78]\tvalidation_0-logloss:0.20559\n",
      "[80]\tvalidation_0-logloss:0.20547\n",
      "[82]\tvalidation_0-logloss:0.20528\n",
      "[84]\tvalidation_0-logloss:0.20513\n",
      "[86]\tvalidation_0-logloss:0.20501\n",
      "[88]\tvalidation_0-logloss:0.20495\n",
      "[90]\tvalidation_0-logloss:0.20481\n",
      "[92]\tvalidation_0-logloss:0.20475\n",
      "[94]\tvalidation_0-logloss:0.20460\n",
      "[96]\tvalidation_0-logloss:0.20448\n",
      "[98]\tvalidation_0-logloss:0.20436\n",
      "[99]\tvalidation_0-logloss:0.20430\n"
     ]
    },
    {
     "data": {
      "text/html": [
       "<style>#sk-container-id-7 {color: black;background-color: white;}#sk-container-id-7 pre{padding: 0;}#sk-container-id-7 div.sk-toggleable {background-color: white;}#sk-container-id-7 label.sk-toggleable__label {cursor: pointer;display: block;width: 100%;margin-bottom: 0;padding: 0.3em;box-sizing: border-box;text-align: center;}#sk-container-id-7 label.sk-toggleable__label-arrow:before {content: \"▸\";float: left;margin-right: 0.25em;color: #696969;}#sk-container-id-7 label.sk-toggleable__label-arrow:hover:before {color: black;}#sk-container-id-7 div.sk-estimator:hover label.sk-toggleable__label-arrow:before {color: black;}#sk-container-id-7 div.sk-toggleable__content {max-height: 0;max-width: 0;overflow: hidden;text-align: left;background-color: #f0f8ff;}#sk-container-id-7 div.sk-toggleable__content pre {margin: 0.2em;color: black;border-radius: 0.25em;background-color: #f0f8ff;}#sk-container-id-7 input.sk-toggleable__control:checked~div.sk-toggleable__content {max-height: 200px;max-width: 100%;overflow: auto;}#sk-container-id-7 input.sk-toggleable__control:checked~label.sk-toggleable__label-arrow:before {content: \"▾\";}#sk-container-id-7 div.sk-estimator input.sk-toggleable__control:checked~label.sk-toggleable__label {background-color: #d4ebff;}#sk-container-id-7 div.sk-label input.sk-toggleable__control:checked~label.sk-toggleable__label {background-color: #d4ebff;}#sk-container-id-7 input.sk-hidden--visually {border: 0;clip: rect(1px 1px 1px 1px);clip: rect(1px, 1px, 1px, 1px);height: 1px;margin: -1px;overflow: hidden;padding: 0;position: absolute;width: 1px;}#sk-container-id-7 div.sk-estimator {font-family: monospace;background-color: #f0f8ff;border: 1px dotted black;border-radius: 0.25em;box-sizing: border-box;margin-bottom: 0.5em;}#sk-container-id-7 div.sk-estimator:hover {background-color: #d4ebff;}#sk-container-id-7 div.sk-parallel-item::after {content: \"\";width: 100%;border-bottom: 1px solid gray;flex-grow: 1;}#sk-container-id-7 div.sk-label:hover label.sk-toggleable__label {background-color: #d4ebff;}#sk-container-id-7 div.sk-serial::before {content: \"\";position: absolute;border-left: 1px solid gray;box-sizing: border-box;top: 0;bottom: 0;left: 50%;z-index: 0;}#sk-container-id-7 div.sk-serial {display: flex;flex-direction: column;align-items: center;background-color: white;padding-right: 0.2em;padding-left: 0.2em;position: relative;}#sk-container-id-7 div.sk-item {position: relative;z-index: 1;}#sk-container-id-7 div.sk-parallel {display: flex;align-items: stretch;justify-content: center;background-color: white;position: relative;}#sk-container-id-7 div.sk-item::before, #sk-container-id-7 div.sk-parallel-item::before {content: \"\";position: absolute;border-left: 1px solid gray;box-sizing: border-box;top: 0;bottom: 0;left: 50%;z-index: -1;}#sk-container-id-7 div.sk-parallel-item {display: flex;flex-direction: column;z-index: 1;position: relative;background-color: white;}#sk-container-id-7 div.sk-parallel-item:first-child::after {align-self: flex-end;width: 50%;}#sk-container-id-7 div.sk-parallel-item:last-child::after {align-self: flex-start;width: 50%;}#sk-container-id-7 div.sk-parallel-item:only-child::after {width: 0;}#sk-container-id-7 div.sk-dashed-wrapped {border: 1px dashed gray;margin: 0 0.4em 0.5em 0.4em;box-sizing: border-box;padding-bottom: 0.4em;background-color: white;}#sk-container-id-7 div.sk-label label {font-family: monospace;font-weight: bold;display: inline-block;line-height: 1.2em;}#sk-container-id-7 div.sk-label-container {text-align: center;}#sk-container-id-7 div.sk-container {/* jupyter's `normalize.less` sets `[hidden] { display: none; }` but bootstrap.min.css set `[hidden] { display: none !important; }` so we also need the `!important` here to be able to override the default hidden behavior on the sphinx rendered scikit-learn.org. See: https://github.com/scikit-learn/scikit-learn/issues/21755 */display: inline-block !important;position: relative;}#sk-container-id-7 div.sk-text-repr-fallback {display: none;}</style><div id=\"sk-container-id-7\" class=\"sk-top-container\"><div class=\"sk-text-repr-fallback\"><pre>XGBClassifier(base_score=0.5, booster=&#x27;gbtree&#x27;, callbacks=None,\n",
       "              colsample_bylevel=1, colsample_bynode=1, colsample_bytree=1,\n",
       "              early_stopping_rounds=None, enable_categorical=False,\n",
       "              eval_metric=None, gamma=0, gpu_id=-1, grow_policy=&#x27;depthwise&#x27;,\n",
       "              importance_type=None, interaction_constraints=&#x27;&#x27;,\n",
       "              learning_rate=0.300000012, max_bin=256, max_cat_to_onehot=4,\n",
       "              max_delta_step=0, max_depth=6, max_leaves=0, min_child_weight=1,\n",
       "              missing=nan, monotone_constraints=&#x27;()&#x27;, n_estimators=100,\n",
       "              n_jobs=-1, num_parallel_tree=1, predictor=&#x27;auto&#x27;, random_state=42,\n",
       "              reg_alpha=0, reg_lambda=1, ...)</pre><b>In a Jupyter environment, please rerun this cell to show the HTML representation or trust the notebook. <br />On GitHub, the HTML representation is unable to render, please try loading this page with nbviewer.org.</b></div><div class=\"sk-container\" hidden><div class=\"sk-item\"><div class=\"sk-estimator sk-toggleable\"><input class=\"sk-toggleable__control sk-hidden--visually\" id=\"sk-estimator-id-7\" type=\"checkbox\" checked><label for=\"sk-estimator-id-7\" class=\"sk-toggleable__label sk-toggleable__label-arrow\">XGBClassifier</label><div class=\"sk-toggleable__content\"><pre>XGBClassifier(base_score=0.5, booster=&#x27;gbtree&#x27;, callbacks=None,\n",
       "              colsample_bylevel=1, colsample_bynode=1, colsample_bytree=1,\n",
       "              early_stopping_rounds=None, enable_categorical=False,\n",
       "              eval_metric=None, gamma=0, gpu_id=-1, grow_policy=&#x27;depthwise&#x27;,\n",
       "              importance_type=None, interaction_constraints=&#x27;&#x27;,\n",
       "              learning_rate=0.300000012, max_bin=256, max_cat_to_onehot=4,\n",
       "              max_delta_step=0, max_depth=6, max_leaves=0, min_child_weight=1,\n",
       "              missing=nan, monotone_constraints=&#x27;()&#x27;, n_estimators=100,\n",
       "              n_jobs=-1, num_parallel_tree=1, predictor=&#x27;auto&#x27;, random_state=42,\n",
       "              reg_alpha=0, reg_lambda=1, ...)</pre></div></div></div></div></div>"
      ],
      "text/plain": [
       "XGBClassifier(base_score=0.5, booster='gbtree', callbacks=None,\n",
       "              colsample_bylevel=1, colsample_bynode=1, colsample_bytree=1,\n",
       "              early_stopping_rounds=None, enable_categorical=False,\n",
       "              eval_metric=None, gamma=0, gpu_id=-1, grow_policy='depthwise',\n",
       "              importance_type=None, interaction_constraints='',\n",
       "              learning_rate=0.300000012, max_bin=256, max_cat_to_onehot=4,\n",
       "              max_delta_step=0, max_depth=6, max_leaves=0, min_child_weight=1,\n",
       "              missing=nan, monotone_constraints='()', n_estimators=100,\n",
       "              n_jobs=-1, num_parallel_tree=1, predictor='auto', random_state=42,\n",
       "              reg_alpha=0, reg_lambda=1, ...)"
      ]
     },
     "execution_count": 188,
     "metadata": {},
     "output_type": "execute_result"
    }
   ],
   "source": [
    "from xgboost import plot_importance, XGBClassifier\n",
    "rfc = XGBClassifier(random_state = 42, n_jobs=-1, scale_pos_weight=5, n_estimators = 100)\n",
    "evals = [(X_test, Y_test)]\n",
    "rfc.fit(X_train, Y_train, early_stopping_rounds = 3, eval_metric = \"logloss\", eval_set = evals, verbose = 2)"
   ]
  },
  {
   "cell_type": "code",
   "execution_count": 189,
   "metadata": {},
   "outputs": [
    {
     "data": {
      "text/plain": [
       "array([[0.97937477, 0.02062526],\n",
       "       [0.84854066, 0.1514593 ],\n",
       "       [0.95423937, 0.04576062],\n",
       "       ...,\n",
       "       [0.98258114, 0.01741884],\n",
       "       [0.9386003 , 0.0613997 ],\n",
       "       [0.6191329 , 0.38086712]], dtype=float32)"
      ]
     },
     "execution_count": 189,
     "metadata": {},
     "output_type": "execute_result"
    }
   ],
   "source": [
    "prob3 = rfc.predict_proba(X_test)\n",
    "prob3"
   ]
  },
  {
   "cell_type": "code",
   "execution_count": 199,
   "metadata": {},
   "outputs": [],
   "source": [
    "result_col = []\n",
    "for i in range(len(Y_test.values)):\n",
    "        result_col.append(prob3[:,1][i])"
   ]
  },
  {
   "cell_type": "code",
   "execution_count": 205,
   "metadata": {},
   "outputs": [
    {
     "data": {
      "text/plain": [
       "5.794164682839416"
      ]
     },
     "execution_count": 205,
     "metadata": {},
     "output_type": "execute_result"
    }
   ],
   "source": [
    "# criteria를 바꾸면서 6%근처로\n",
    "criteria = 0.6635\n",
    "result_bool = [0 if i <= criteria else 1 for i in result_col]\n",
    "\n",
    "sum(result_bool)/len(result_bool) * 100"
   ]
  },
  {
   "cell_type": "code",
   "execution_count": 206,
   "metadata": {},
   "outputs": [],
   "source": [
    "y_true = Y_test\n",
    "y_pred = result_bool"
   ]
  },
  {
   "cell_type": "code",
   "execution_count": 207,
   "metadata": {
    "scrolled": false
   },
   "outputs": [
    {
     "data": {
      "text/plain": [
       "0.7025932342764355"
      ]
     },
     "execution_count": 207,
     "metadata": {},
     "output_type": "execute_result"
    }
   ],
   "source": [
    "f1_score(y_true, y_pred, average='macro')"
   ]
  },
  {
   "cell_type": "code",
   "execution_count": null,
   "metadata": {},
   "outputs": [],
   "source": []
  },
  {
   "cell_type": "code",
   "execution_count": 213,
   "metadata": {},
   "outputs": [],
   "source": [
    "#2안 - bank_ratio 넣기\n",
    "X = df.drop(['is_applied','application_id','user_id'], axis=1) # 'bank_id',  'product_id'\n",
    "Y = df['is_applied']\n",
    "X_train, X_test, Y_train, Y_test = train_test_split(X, Y, test_size = 0.2, random_state = 42, stratify=Y)"
   ]
  },
  {
   "cell_type": "code",
   "execution_count": 214,
   "metadata": {
    "scrolled": true
   },
   "outputs": [
    {
     "name": "stderr",
     "output_type": "stream",
     "text": [
      "C:\\Users\\sjkan\\anaconda3\\lib\\site-packages\\xgboost\\sklearn.py:793: UserWarning: `eval_metric` in `fit` method is deprecated for better compatibility with scikit-learn, use `eval_metric` in constructor or`set_params` instead.\n",
      "  warnings.warn(\n",
      "C:\\Users\\sjkan\\anaconda3\\lib\\site-packages\\xgboost\\sklearn.py:793: UserWarning: `early_stopping_rounds` in `fit` method is deprecated for better compatibility with scikit-learn, use `early_stopping_rounds` in constructor or`set_params` instead.\n",
      "  warnings.warn(\n"
     ]
    },
    {
     "name": "stdout",
     "output_type": "stream",
     "text": [
      "[0]\tvalidation_0-logloss:0.52370\n",
      "[2]\tvalidation_0-logloss:0.36563\n",
      "[4]\tvalidation_0-logloss:0.29604\n",
      "[6]\tvalidation_0-logloss:0.26185\n",
      "[8]\tvalidation_0-logloss:0.24356\n",
      "[10]\tvalidation_0-logloss:0.23294\n",
      "[12]\tvalidation_0-logloss:0.22670\n",
      "[14]\tvalidation_0-logloss:0.22256\n",
      "[16]\tvalidation_0-logloss:0.21964\n",
      "[18]\tvalidation_0-logloss:0.21776\n",
      "[20]\tvalidation_0-logloss:0.21614\n",
      "[22]\tvalidation_0-logloss:0.21509\n",
      "[24]\tvalidation_0-logloss:0.21413\n",
      "[26]\tvalidation_0-logloss:0.21314\n",
      "[28]\tvalidation_0-logloss:0.21239\n",
      "[30]\tvalidation_0-logloss:0.21168\n",
      "[32]\tvalidation_0-logloss:0.21097\n",
      "[34]\tvalidation_0-logloss:0.21051\n",
      "[36]\tvalidation_0-logloss:0.21004\n",
      "[38]\tvalidation_0-logloss:0.20962\n",
      "[40]\tvalidation_0-logloss:0.20930\n",
      "[42]\tvalidation_0-logloss:0.20896\n",
      "[44]\tvalidation_0-logloss:0.20874\n",
      "[46]\tvalidation_0-logloss:0.20841\n",
      "[48]\tvalidation_0-logloss:0.20809\n",
      "[50]\tvalidation_0-logloss:0.20783\n",
      "[52]\tvalidation_0-logloss:0.20753\n",
      "[54]\tvalidation_0-logloss:0.20724\n",
      "[56]\tvalidation_0-logloss:0.20702\n",
      "[58]\tvalidation_0-logloss:0.20680\n",
      "[60]\tvalidation_0-logloss:0.20665\n",
      "[62]\tvalidation_0-logloss:0.20643\n",
      "[64]\tvalidation_0-logloss:0.20624\n",
      "[66]\tvalidation_0-logloss:0.20609\n",
      "[68]\tvalidation_0-logloss:0.20599\n",
      "[70]\tvalidation_0-logloss:0.20588\n",
      "[72]\tvalidation_0-logloss:0.20576\n",
      "[74]\tvalidation_0-logloss:0.20555\n",
      "[76]\tvalidation_0-logloss:0.20533\n",
      "[78]\tvalidation_0-logloss:0.20517\n",
      "[80]\tvalidation_0-logloss:0.20506\n",
      "[82]\tvalidation_0-logloss:0.20490\n",
      "[84]\tvalidation_0-logloss:0.20484\n",
      "[86]\tvalidation_0-logloss:0.20473\n",
      "[88]\tvalidation_0-logloss:0.20463\n",
      "[90]\tvalidation_0-logloss:0.20448\n",
      "[92]\tvalidation_0-logloss:0.20438\n",
      "[94]\tvalidation_0-logloss:0.20418\n",
      "[96]\tvalidation_0-logloss:0.20408\n",
      "[98]\tvalidation_0-logloss:0.20396\n",
      "[99]\tvalidation_0-logloss:0.20387\n"
     ]
    },
    {
     "data": {
      "text/html": [
       "<style>#sk-container-id-8 {color: black;background-color: white;}#sk-container-id-8 pre{padding: 0;}#sk-container-id-8 div.sk-toggleable {background-color: white;}#sk-container-id-8 label.sk-toggleable__label {cursor: pointer;display: block;width: 100%;margin-bottom: 0;padding: 0.3em;box-sizing: border-box;text-align: center;}#sk-container-id-8 label.sk-toggleable__label-arrow:before {content: \"▸\";float: left;margin-right: 0.25em;color: #696969;}#sk-container-id-8 label.sk-toggleable__label-arrow:hover:before {color: black;}#sk-container-id-8 div.sk-estimator:hover label.sk-toggleable__label-arrow:before {color: black;}#sk-container-id-8 div.sk-toggleable__content {max-height: 0;max-width: 0;overflow: hidden;text-align: left;background-color: #f0f8ff;}#sk-container-id-8 div.sk-toggleable__content pre {margin: 0.2em;color: black;border-radius: 0.25em;background-color: #f0f8ff;}#sk-container-id-8 input.sk-toggleable__control:checked~div.sk-toggleable__content {max-height: 200px;max-width: 100%;overflow: auto;}#sk-container-id-8 input.sk-toggleable__control:checked~label.sk-toggleable__label-arrow:before {content: \"▾\";}#sk-container-id-8 div.sk-estimator input.sk-toggleable__control:checked~label.sk-toggleable__label {background-color: #d4ebff;}#sk-container-id-8 div.sk-label input.sk-toggleable__control:checked~label.sk-toggleable__label {background-color: #d4ebff;}#sk-container-id-8 input.sk-hidden--visually {border: 0;clip: rect(1px 1px 1px 1px);clip: rect(1px, 1px, 1px, 1px);height: 1px;margin: -1px;overflow: hidden;padding: 0;position: absolute;width: 1px;}#sk-container-id-8 div.sk-estimator {font-family: monospace;background-color: #f0f8ff;border: 1px dotted black;border-radius: 0.25em;box-sizing: border-box;margin-bottom: 0.5em;}#sk-container-id-8 div.sk-estimator:hover {background-color: #d4ebff;}#sk-container-id-8 div.sk-parallel-item::after {content: \"\";width: 100%;border-bottom: 1px solid gray;flex-grow: 1;}#sk-container-id-8 div.sk-label:hover label.sk-toggleable__label {background-color: #d4ebff;}#sk-container-id-8 div.sk-serial::before {content: \"\";position: absolute;border-left: 1px solid gray;box-sizing: border-box;top: 0;bottom: 0;left: 50%;z-index: 0;}#sk-container-id-8 div.sk-serial {display: flex;flex-direction: column;align-items: center;background-color: white;padding-right: 0.2em;padding-left: 0.2em;position: relative;}#sk-container-id-8 div.sk-item {position: relative;z-index: 1;}#sk-container-id-8 div.sk-parallel {display: flex;align-items: stretch;justify-content: center;background-color: white;position: relative;}#sk-container-id-8 div.sk-item::before, #sk-container-id-8 div.sk-parallel-item::before {content: \"\";position: absolute;border-left: 1px solid gray;box-sizing: border-box;top: 0;bottom: 0;left: 50%;z-index: -1;}#sk-container-id-8 div.sk-parallel-item {display: flex;flex-direction: column;z-index: 1;position: relative;background-color: white;}#sk-container-id-8 div.sk-parallel-item:first-child::after {align-self: flex-end;width: 50%;}#sk-container-id-8 div.sk-parallel-item:last-child::after {align-self: flex-start;width: 50%;}#sk-container-id-8 div.sk-parallel-item:only-child::after {width: 0;}#sk-container-id-8 div.sk-dashed-wrapped {border: 1px dashed gray;margin: 0 0.4em 0.5em 0.4em;box-sizing: border-box;padding-bottom: 0.4em;background-color: white;}#sk-container-id-8 div.sk-label label {font-family: monospace;font-weight: bold;display: inline-block;line-height: 1.2em;}#sk-container-id-8 div.sk-label-container {text-align: center;}#sk-container-id-8 div.sk-container {/* jupyter's `normalize.less` sets `[hidden] { display: none; }` but bootstrap.min.css set `[hidden] { display: none !important; }` so we also need the `!important` here to be able to override the default hidden behavior on the sphinx rendered scikit-learn.org. See: https://github.com/scikit-learn/scikit-learn/issues/21755 */display: inline-block !important;position: relative;}#sk-container-id-8 div.sk-text-repr-fallback {display: none;}</style><div id=\"sk-container-id-8\" class=\"sk-top-container\"><div class=\"sk-text-repr-fallback\"><pre>XGBClassifier(base_score=0.5, booster=&#x27;gbtree&#x27;, callbacks=None,\n",
       "              colsample_bylevel=1, colsample_bynode=1, colsample_bytree=1,\n",
       "              early_stopping_rounds=None, enable_categorical=False,\n",
       "              eval_metric=None, gamma=0, gpu_id=-1, grow_policy=&#x27;depthwise&#x27;,\n",
       "              importance_type=None, interaction_constraints=&#x27;&#x27;,\n",
       "              learning_rate=0.300000012, max_bin=256, max_cat_to_onehot=4,\n",
       "              max_delta_step=0, max_depth=6, max_leaves=0, min_child_weight=1,\n",
       "              missing=nan, monotone_constraints=&#x27;()&#x27;, n_estimators=100,\n",
       "              n_jobs=-1, num_parallel_tree=1, predictor=&#x27;auto&#x27;, random_state=42,\n",
       "              reg_alpha=0, reg_lambda=1, ...)</pre><b>In a Jupyter environment, please rerun this cell to show the HTML representation or trust the notebook. <br />On GitHub, the HTML representation is unable to render, please try loading this page with nbviewer.org.</b></div><div class=\"sk-container\" hidden><div class=\"sk-item\"><div class=\"sk-estimator sk-toggleable\"><input class=\"sk-toggleable__control sk-hidden--visually\" id=\"sk-estimator-id-8\" type=\"checkbox\" checked><label for=\"sk-estimator-id-8\" class=\"sk-toggleable__label sk-toggleable__label-arrow\">XGBClassifier</label><div class=\"sk-toggleable__content\"><pre>XGBClassifier(base_score=0.5, booster=&#x27;gbtree&#x27;, callbacks=None,\n",
       "              colsample_bylevel=1, colsample_bynode=1, colsample_bytree=1,\n",
       "              early_stopping_rounds=None, enable_categorical=False,\n",
       "              eval_metric=None, gamma=0, gpu_id=-1, grow_policy=&#x27;depthwise&#x27;,\n",
       "              importance_type=None, interaction_constraints=&#x27;&#x27;,\n",
       "              learning_rate=0.300000012, max_bin=256, max_cat_to_onehot=4,\n",
       "              max_delta_step=0, max_depth=6, max_leaves=0, min_child_weight=1,\n",
       "              missing=nan, monotone_constraints=&#x27;()&#x27;, n_estimators=100,\n",
       "              n_jobs=-1, num_parallel_tree=1, predictor=&#x27;auto&#x27;, random_state=42,\n",
       "              reg_alpha=0, reg_lambda=1, ...)</pre></div></div></div></div></div>"
      ],
      "text/plain": [
       "XGBClassifier(base_score=0.5, booster='gbtree', callbacks=None,\n",
       "              colsample_bylevel=1, colsample_bynode=1, colsample_bytree=1,\n",
       "              early_stopping_rounds=None, enable_categorical=False,\n",
       "              eval_metric=None, gamma=0, gpu_id=-1, grow_policy='depthwise',\n",
       "              importance_type=None, interaction_constraints='',\n",
       "              learning_rate=0.300000012, max_bin=256, max_cat_to_onehot=4,\n",
       "              max_delta_step=0, max_depth=6, max_leaves=0, min_child_weight=1,\n",
       "              missing=nan, monotone_constraints='()', n_estimators=100,\n",
       "              n_jobs=-1, num_parallel_tree=1, predictor='auto', random_state=42,\n",
       "              reg_alpha=0, reg_lambda=1, ...)"
      ]
     },
     "execution_count": 214,
     "metadata": {},
     "output_type": "execute_result"
    }
   ],
   "source": [
    "from xgboost import plot_importance, XGBClassifier\n",
    "rfc = XGBClassifier(random_state = 42, n_jobs=-1, scale_pos_weight=5, n_estimators = 100)\n",
    "evals = [(X_test, Y_test)]\n",
    "rfc.fit(X_train, Y_train, early_stopping_rounds = 3, eval_metric = \"logloss\", eval_set = evals, verbose = 2)"
   ]
  },
  {
   "cell_type": "code",
   "execution_count": 215,
   "metadata": {},
   "outputs": [
    {
     "data": {
      "text/plain": [
       "array([[0.97838175, 0.02161827],\n",
       "       [0.86386824, 0.13613175],\n",
       "       [0.961997  , 0.03800301],\n",
       "       ...,\n",
       "       [0.9878017 , 0.01219834],\n",
       "       [0.9523356 , 0.04766443],\n",
       "       [0.678995  , 0.32100502]], dtype=float32)"
      ]
     },
     "execution_count": 215,
     "metadata": {},
     "output_type": "execute_result"
    }
   ],
   "source": [
    "prob4 = rfc.predict_proba(X_test)\n",
    "prob4"
   ]
  },
  {
   "cell_type": "code",
   "execution_count": 216,
   "metadata": {},
   "outputs": [],
   "source": [
    "# user , product\n",
    "result_col = []\n",
    "for i in range(len(Y_test.values)):\n",
    "        result_col.append(prob4[:,1][i])"
   ]
  },
  {
   "cell_type": "code",
   "execution_count": 222,
   "metadata": {},
   "outputs": [
    {
     "data": {
      "text/plain": [
       "5.794908850610552"
      ]
     },
     "execution_count": 222,
     "metadata": {},
     "output_type": "execute_result"
    }
   ],
   "source": [
    "criteria = 0.663\n",
    "result_bool = [0 if i <= criteria else 1 for i in result_col]\n",
    "\n",
    "sum(result_bool)/len(result_bool) * 100"
   ]
  },
  {
   "cell_type": "code",
   "execution_count": 223,
   "metadata": {},
   "outputs": [],
   "source": [
    "y_true = Y_test\n",
    "y_pred = result_bool"
   ]
  },
  {
   "cell_type": "code",
   "execution_count": 224,
   "metadata": {
    "scrolled": true
   },
   "outputs": [
    {
     "data": {
      "text/plain": [
       "0.7034973274606185"
      ]
     },
     "execution_count": 224,
     "metadata": {},
     "output_type": "execute_result"
    }
   ],
   "source": [
    "f1_score(y_true, y_pred, average='macro')"
   ]
  },
  {
   "cell_type": "code",
   "execution_count": null,
   "metadata": {},
   "outputs": [],
   "source": []
  },
  {
   "cell_type": "code",
   "execution_count": null,
   "metadata": {},
   "outputs": [],
   "source": []
  },
  {
   "cell_type": "markdown",
   "metadata": {},
   "source": [
    "# lgbm+xgboost\n",
    "#### prob1 : randomforest  prob2 : lgbm  prob3,4 : xgboose"
   ]
  },
  {
   "cell_type": "code",
   "execution_count": 225,
   "metadata": {},
   "outputs": [],
   "source": [
    "result_col = []\n",
    "for i in range(len(Y_test.values)):\n",
    "        result_col.append(prob2[:,1][i]*0.8 + prob3[:,1][i] *0.2)"
   ]
  },
  {
   "cell_type": "code",
   "execution_count": 226,
   "metadata": {},
   "outputs": [
    {
     "data": {
      "text/plain": [
       "5.799299440460253"
      ]
     },
     "execution_count": 226,
     "metadata": {},
     "output_type": "execute_result"
    }
   ],
   "source": [
    "# criteria를 바꾸면서 6%근처로\n",
    "criteria = 0.654\n",
    "result_bool = [0 if i <= criteria else 1 for i in result_col]\n",
    "\n",
    "sum(result_bool)/len(result_bool) * 100"
   ]
  },
  {
   "cell_type": "code",
   "execution_count": 227,
   "metadata": {},
   "outputs": [],
   "source": [
    "y_true = Y_test\n",
    "y_pred = result_bool"
   ]
  },
  {
   "cell_type": "code",
   "execution_count": 228,
   "metadata": {
    "scrolled": true
   },
   "outputs": [
    {
     "data": {
      "text/plain": [
       "0.7062161923449911"
      ]
     },
     "execution_count": 228,
     "metadata": {},
     "output_type": "execute_result"
    }
   ],
   "source": [
    "f1_score(y_true, y_pred, average='macro')"
   ]
  },
  {
   "cell_type": "code",
   "execution_count": null,
   "metadata": {},
   "outputs": [],
   "source": []
  }
 ],
 "metadata": {
  "accelerator": "GPU",
  "colab": {
   "collapsed_sections": [],
   "provenance": [
    {
     "file_id": "1EC1rVNcDnuWj8-4Z0GGG6pMH1gmRo3jp",
     "timestamp": 1664778201295
    }
   ]
  },
  "kernelspec": {
   "display_name": "Python 3 (ipykernel)",
   "language": "python",
   "name": "python3"
  },
  "language_info": {
   "codemirror_mode": {
    "name": "ipython",
    "version": 3
   },
   "file_extension": ".py",
   "mimetype": "text/x-python",
   "name": "python",
   "nbconvert_exporter": "python",
   "pygments_lexer": "ipython3",
   "version": "3.9.12"
  }
 },
 "nbformat": 4,
 "nbformat_minor": 1
}
